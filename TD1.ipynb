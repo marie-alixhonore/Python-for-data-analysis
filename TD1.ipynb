{
 "cells": [
  {
   "cell_type": "markdown",
   "metadata": {},
   "source": [
    "# Python for Data Analysis : TD 1"
   ]
  },
  {
   "cell_type": "code",
   "execution_count": 1,
   "metadata": {
    "scrolled": true
   },
   "outputs": [
    {
     "name": "stdout",
     "output_type": "stream",
     "text": [
      "Hello World !\n"
     ]
    }
   ],
   "source": [
    "print(\"Hello World !\")"
   ]
  },
  {
   "cell_type": "code",
   "execution_count": 4,
   "metadata": {},
   "outputs": [
    {
     "data": {
      "application/javascript": [
       "IPython.notebook.set_autosave_interval(60000)"
      ]
     },
     "metadata": {},
     "output_type": "display_data"
    },
    {
     "name": "stdout",
     "output_type": "stream",
     "text": [
      "Autosaving every 60 seconds\n"
     ]
    }
   ],
   "source": [
    "%autosave 60"
   ]
  },
  {
   "cell_type": "code",
   "execution_count": 2,
   "metadata": {},
   "outputs": [
    {
     "data": {
      "text/plain": [
       "float"
      ]
     },
     "execution_count": 2,
     "metadata": {},
     "output_type": "execute_result"
    }
   ],
   "source": [
    "b=1.1\n",
    "type(b)"
   ]
  },
  {
   "cell_type": "code",
   "execution_count": 3,
   "metadata": {},
   "outputs": [
    {
     "name": "stdout",
     "output_type": "stream",
     "text": [
      "3.1\n"
     ]
    },
    {
     "data": {
      "text/plain": [
       "float"
      ]
     },
     "execution_count": 3,
     "metadata": {},
     "output_type": "execute_result"
    }
   ],
   "source": [
    "print(b+2)\n",
    "type(b+2)"
   ]
  },
  {
   "cell_type": "markdown",
   "metadata": {},
   "source": [
    "## Type casting"
   ]
  },
  {
   "cell_type": "code",
   "execution_count": 6,
   "metadata": {},
   "outputs": [
    {
     "name": "stdout",
     "output_type": "stream",
     "text": [
      "3\n"
     ]
    },
    {
     "data": {
      "text/plain": [
       "int"
      ]
     },
     "execution_count": 6,
     "metadata": {},
     "output_type": "execute_result"
    }
   ],
   "source": [
    "c=int(\"1\")\n",
    "print(c+2)\n",
    "type(c+2)"
   ]
  },
  {
   "cell_type": "markdown",
   "metadata": {},
   "source": [
    "## Listes"
   ]
  },
  {
   "cell_type": "code",
   "execution_count": 8,
   "metadata": {},
   "outputs": [
    {
     "data": {
      "text/plain": [
       "[1, 2, 'a', 'b']"
      ]
     },
     "execution_count": 8,
     "metadata": {},
     "output_type": "execute_result"
    }
   ],
   "source": [
    "une_liste = [1, 2, \"a\", \"b\"]\n",
    "une_liste"
   ]
  },
  {
   "cell_type": "code",
   "execution_count": 11,
   "metadata": {},
   "outputs": [
    {
     "data": {
      "text/plain": [
       "2"
      ]
     },
     "execution_count": 11,
     "metadata": {},
     "output_type": "execute_result"
    }
   ],
   "source": [
    "#une liste commence à l'indice 0\n",
    "une_liste[1]"
   ]
  },
  {
   "cell_type": "code",
   "execution_count": 12,
   "metadata": {},
   "outputs": [
    {
     "data": {
      "text/plain": [
       "'b'"
      ]
     },
     "execution_count": 12,
     "metadata": {},
     "output_type": "execute_result"
    }
   ],
   "source": [
    "#dernier élément de la liste\n",
    "une_liste[-1]"
   ]
  },
  {
   "cell_type": "code",
   "execution_count": 13,
   "metadata": {},
   "outputs": [],
   "source": [
    "une_liste.append(\"z\")"
   ]
  },
  {
   "cell_type": "code",
   "execution_count": 14,
   "metadata": {},
   "outputs": [
    {
     "data": {
      "text/plain": [
       "[1, 2, 'a', 'b', 'z']"
      ]
     },
     "execution_count": 14,
     "metadata": {},
     "output_type": "execute_result"
    }
   ],
   "source": [
    "une_liste"
   ]
  },
  {
   "cell_type": "markdown",
   "metadata": {},
   "source": [
    "## List slicing"
   ]
  },
  {
   "cell_type": "code",
   "execution_count": 16,
   "metadata": {},
   "outputs": [
    {
     "data": {
      "text/plain": [
       "['a', 'b']"
      ]
     },
     "execution_count": 16,
     "metadata": {},
     "output_type": "execute_result"
    }
   ],
   "source": [
    "#une_liste[a:b] -> va de l'indice a compris à l'indice b exclu\n",
    "une_liste[2:4]"
   ]
  },
  {
   "cell_type": "code",
   "execution_count": 17,
   "metadata": {},
   "outputs": [
    {
     "data": {
      "text/plain": [
       "['b', 'z']"
      ]
     },
     "execution_count": 17,
     "metadata": {},
     "output_type": "execute_result"
    }
   ],
   "source": [
    "une_liste[-2:]"
   ]
  },
  {
   "cell_type": "code",
   "execution_count": 18,
   "metadata": {},
   "outputs": [
    {
     "data": {
      "text/plain": [
       "[1, 2, 'a']"
      ]
     },
     "execution_count": 18,
     "metadata": {},
     "output_type": "execute_result"
    }
   ],
   "source": [
    "une_liste[:-2]"
   ]
  },
  {
   "cell_type": "markdown",
   "metadata": {},
   "source": [
    "## Pandas/Matplotlib"
   ]
  },
  {
   "cell_type": "code",
   "execution_count": 24,
   "metadata": {},
   "outputs": [],
   "source": [
    "%matplotlib inline"
   ]
  },
  {
   "cell_type": "code",
   "execution_count": 25,
   "metadata": {},
   "outputs": [],
   "source": [
    "import numpy as np\n",
    "import pandas as pd\n",
    "from pandas import Series, DataFrame\n",
    "import matplotlib.pyplot as plt"
   ]
  },
  {
   "cell_type": "code",
   "execution_count": 74,
   "metadata": {},
   "outputs": [],
   "source": [
    "#chargement dataset\n",
    "prenoms = pd.read_csv(\"dpt2018.csv\", sep=\";\")"
   ]
  },
  {
   "cell_type": "code",
   "execution_count": 27,
   "metadata": {},
   "outputs": [
    {
     "data": {
      "text/html": [
       "<div>\n",
       "<style scoped>\n",
       "    .dataframe tbody tr th:only-of-type {\n",
       "        vertical-align: middle;\n",
       "    }\n",
       "\n",
       "    .dataframe tbody tr th {\n",
       "        vertical-align: top;\n",
       "    }\n",
       "\n",
       "    .dataframe thead th {\n",
       "        text-align: right;\n",
       "    }\n",
       "</style>\n",
       "<table border=\"1\" class=\"dataframe\">\n",
       "  <thead>\n",
       "    <tr style=\"text-align: right;\">\n",
       "      <th></th>\n",
       "      <th>sexe</th>\n",
       "      <th>preusuel</th>\n",
       "      <th>annais</th>\n",
       "      <th>dpt</th>\n",
       "      <th>nombre</th>\n",
       "    </tr>\n",
       "  </thead>\n",
       "  <tbody>\n",
       "    <tr>\n",
       "      <th>0</th>\n",
       "      <td>1</td>\n",
       "      <td>A</td>\n",
       "      <td>XXXX</td>\n",
       "      <td>XX</td>\n",
       "      <td>27</td>\n",
       "    </tr>\n",
       "    <tr>\n",
       "      <th>1</th>\n",
       "      <td>1</td>\n",
       "      <td>AADAM</td>\n",
       "      <td>XXXX</td>\n",
       "      <td>XX</td>\n",
       "      <td>27</td>\n",
       "    </tr>\n",
       "    <tr>\n",
       "      <th>2</th>\n",
       "      <td>1</td>\n",
       "      <td>AADEL</td>\n",
       "      <td>XXXX</td>\n",
       "      <td>XX</td>\n",
       "      <td>55</td>\n",
       "    </tr>\n",
       "    <tr>\n",
       "      <th>3</th>\n",
       "      <td>1</td>\n",
       "      <td>AADIL</td>\n",
       "      <td>1983</td>\n",
       "      <td>84</td>\n",
       "      <td>3</td>\n",
       "    </tr>\n",
       "    <tr>\n",
       "      <th>4</th>\n",
       "      <td>1</td>\n",
       "      <td>AADIL</td>\n",
       "      <td>1992</td>\n",
       "      <td>92</td>\n",
       "      <td>3</td>\n",
       "    </tr>\n",
       "    <tr>\n",
       "      <th>...</th>\n",
       "      <td>...</td>\n",
       "      <td>...</td>\n",
       "      <td>...</td>\n",
       "      <td>...</td>\n",
       "      <td>...</td>\n",
       "    </tr>\n",
       "    <tr>\n",
       "      <th>3624989</th>\n",
       "      <td>2</td>\n",
       "      <td>ÉYA</td>\n",
       "      <td>2014</td>\n",
       "      <td>69</td>\n",
       "      <td>3</td>\n",
       "    </tr>\n",
       "    <tr>\n",
       "      <th>3624990</th>\n",
       "      <td>2</td>\n",
       "      <td>ÉYA</td>\n",
       "      <td>XXXX</td>\n",
       "      <td>XX</td>\n",
       "      <td>23</td>\n",
       "    </tr>\n",
       "    <tr>\n",
       "      <th>3624991</th>\n",
       "      <td>2</td>\n",
       "      <td>ÏNAYA</td>\n",
       "      <td>XXXX</td>\n",
       "      <td>XX</td>\n",
       "      <td>21</td>\n",
       "    </tr>\n",
       "    <tr>\n",
       "      <th>3624992</th>\n",
       "      <td>2</td>\n",
       "      <td>ÖZGE</td>\n",
       "      <td>XXXX</td>\n",
       "      <td>XX</td>\n",
       "      <td>30</td>\n",
       "    </tr>\n",
       "    <tr>\n",
       "      <th>3624993</th>\n",
       "      <td>2</td>\n",
       "      <td>ÖZLEM</td>\n",
       "      <td>XXXX</td>\n",
       "      <td>XX</td>\n",
       "      <td>95</td>\n",
       "    </tr>\n",
       "  </tbody>\n",
       "</table>\n",
       "<p>3624994 rows × 5 columns</p>\n",
       "</div>"
      ],
      "text/plain": [
       "         sexe preusuel annais dpt  nombre\n",
       "0           1        A   XXXX  XX      27\n",
       "1           1    AADAM   XXXX  XX      27\n",
       "2           1    AADEL   XXXX  XX      55\n",
       "3           1    AADIL   1983  84       3\n",
       "4           1    AADIL   1992  92       3\n",
       "...       ...      ...    ...  ..     ...\n",
       "3624989     2      ÉYA   2014  69       3\n",
       "3624990     2      ÉYA   XXXX  XX      23\n",
       "3624991     2    ÏNAYA   XXXX  XX      21\n",
       "3624992     2     ÖZGE   XXXX  XX      30\n",
       "3624993     2    ÖZLEM   XXXX  XX      95\n",
       "\n",
       "[3624994 rows x 5 columns]"
      ]
     },
     "execution_count": 27,
     "metadata": {},
     "output_type": "execute_result"
    }
   ],
   "source": [
    "prenoms"
   ]
  },
  {
   "cell_type": "markdown",
   "metadata": {},
   "source": [
    "## Analyse rapide de la structure"
   ]
  },
  {
   "cell_type": "code",
   "execution_count": 28,
   "metadata": {},
   "outputs": [
    {
     "data": {
      "text/html": [
       "<div>\n",
       "<style scoped>\n",
       "    .dataframe tbody tr th:only-of-type {\n",
       "        vertical-align: middle;\n",
       "    }\n",
       "\n",
       "    .dataframe tbody tr th {\n",
       "        vertical-align: top;\n",
       "    }\n",
       "\n",
       "    .dataframe thead th {\n",
       "        text-align: right;\n",
       "    }\n",
       "</style>\n",
       "<table border=\"1\" class=\"dataframe\">\n",
       "  <thead>\n",
       "    <tr style=\"text-align: right;\">\n",
       "      <th></th>\n",
       "      <th>sexe</th>\n",
       "      <th>preusuel</th>\n",
       "      <th>annais</th>\n",
       "      <th>dpt</th>\n",
       "      <th>nombre</th>\n",
       "    </tr>\n",
       "  </thead>\n",
       "  <tbody>\n",
       "    <tr>\n",
       "      <th>0</th>\n",
       "      <td>1</td>\n",
       "      <td>A</td>\n",
       "      <td>XXXX</td>\n",
       "      <td>XX</td>\n",
       "      <td>27</td>\n",
       "    </tr>\n",
       "    <tr>\n",
       "      <th>1</th>\n",
       "      <td>1</td>\n",
       "      <td>AADAM</td>\n",
       "      <td>XXXX</td>\n",
       "      <td>XX</td>\n",
       "      <td>27</td>\n",
       "    </tr>\n",
       "    <tr>\n",
       "      <th>2</th>\n",
       "      <td>1</td>\n",
       "      <td>AADEL</td>\n",
       "      <td>XXXX</td>\n",
       "      <td>XX</td>\n",
       "      <td>55</td>\n",
       "    </tr>\n",
       "    <tr>\n",
       "      <th>3</th>\n",
       "      <td>1</td>\n",
       "      <td>AADIL</td>\n",
       "      <td>1983</td>\n",
       "      <td>84</td>\n",
       "      <td>3</td>\n",
       "    </tr>\n",
       "    <tr>\n",
       "      <th>4</th>\n",
       "      <td>1</td>\n",
       "      <td>AADIL</td>\n",
       "      <td>1992</td>\n",
       "      <td>92</td>\n",
       "      <td>3</td>\n",
       "    </tr>\n",
       "  </tbody>\n",
       "</table>\n",
       "</div>"
      ],
      "text/plain": [
       "   sexe preusuel annais dpt  nombre\n",
       "0     1        A   XXXX  XX      27\n",
       "1     1    AADAM   XXXX  XX      27\n",
       "2     1    AADEL   XXXX  XX      55\n",
       "3     1    AADIL   1983  84       3\n",
       "4     1    AADIL   1992  92       3"
      ]
     },
     "execution_count": 28,
     "metadata": {},
     "output_type": "execute_result"
    }
   ],
   "source": [
    "prenoms.head()"
   ]
  },
  {
   "cell_type": "code",
   "execution_count": 30,
   "metadata": {},
   "outputs": [
    {
     "data": {
      "text/html": [
       "<div>\n",
       "<style scoped>\n",
       "    .dataframe tbody tr th:only-of-type {\n",
       "        vertical-align: middle;\n",
       "    }\n",
       "\n",
       "    .dataframe tbody tr th {\n",
       "        vertical-align: top;\n",
       "    }\n",
       "\n",
       "    .dataframe thead th {\n",
       "        text-align: right;\n",
       "    }\n",
       "</style>\n",
       "<table border=\"1\" class=\"dataframe\">\n",
       "  <thead>\n",
       "    <tr style=\"text-align: right;\">\n",
       "      <th></th>\n",
       "      <th>sexe</th>\n",
       "      <th>preusuel</th>\n",
       "      <th>annais</th>\n",
       "      <th>dpt</th>\n",
       "      <th>nombre</th>\n",
       "    </tr>\n",
       "  </thead>\n",
       "  <tbody>\n",
       "    <tr>\n",
       "      <th>3624989</th>\n",
       "      <td>2</td>\n",
       "      <td>ÉYA</td>\n",
       "      <td>2014</td>\n",
       "      <td>69</td>\n",
       "      <td>3</td>\n",
       "    </tr>\n",
       "    <tr>\n",
       "      <th>3624990</th>\n",
       "      <td>2</td>\n",
       "      <td>ÉYA</td>\n",
       "      <td>XXXX</td>\n",
       "      <td>XX</td>\n",
       "      <td>23</td>\n",
       "    </tr>\n",
       "    <tr>\n",
       "      <th>3624991</th>\n",
       "      <td>2</td>\n",
       "      <td>ÏNAYA</td>\n",
       "      <td>XXXX</td>\n",
       "      <td>XX</td>\n",
       "      <td>21</td>\n",
       "    </tr>\n",
       "    <tr>\n",
       "      <th>3624992</th>\n",
       "      <td>2</td>\n",
       "      <td>ÖZGE</td>\n",
       "      <td>XXXX</td>\n",
       "      <td>XX</td>\n",
       "      <td>30</td>\n",
       "    </tr>\n",
       "    <tr>\n",
       "      <th>3624993</th>\n",
       "      <td>2</td>\n",
       "      <td>ÖZLEM</td>\n",
       "      <td>XXXX</td>\n",
       "      <td>XX</td>\n",
       "      <td>95</td>\n",
       "    </tr>\n",
       "  </tbody>\n",
       "</table>\n",
       "</div>"
      ],
      "text/plain": [
       "         sexe preusuel annais dpt  nombre\n",
       "3624989     2      ÉYA   2014  69       3\n",
       "3624990     2      ÉYA   XXXX  XX      23\n",
       "3624991     2    ÏNAYA   XXXX  XX      21\n",
       "3624992     2     ÖZGE   XXXX  XX      30\n",
       "3624993     2    ÖZLEM   XXXX  XX      95"
      ]
     },
     "execution_count": 30,
     "metadata": {},
     "output_type": "execute_result"
    }
   ],
   "source": [
    "prenoms.tail()"
   ]
  },
  {
   "cell_type": "code",
   "execution_count": 35,
   "metadata": {},
   "outputs": [
    {
     "name": "stdout",
     "output_type": "stream",
     "text": [
      "3624994\n",
      "5\n"
     ]
    }
   ],
   "source": [
    "nb_lignes, nb_col=prenoms.shape\n",
    "print(nb_lignes)\n",
    "print(nb_col)"
   ]
  },
  {
   "cell_type": "code",
   "execution_count": 32,
   "metadata": {},
   "outputs": [
    {
     "data": {
      "text/html": [
       "<div>\n",
       "<style scoped>\n",
       "    .dataframe tbody tr th:only-of-type {\n",
       "        vertical-align: middle;\n",
       "    }\n",
       "\n",
       "    .dataframe tbody tr th {\n",
       "        vertical-align: top;\n",
       "    }\n",
       "\n",
       "    .dataframe thead th {\n",
       "        text-align: right;\n",
       "    }\n",
       "</style>\n",
       "<table border=\"1\" class=\"dataframe\">\n",
       "  <thead>\n",
       "    <tr style=\"text-align: right;\">\n",
       "      <th></th>\n",
       "      <th>sexe</th>\n",
       "      <th>nombre</th>\n",
       "    </tr>\n",
       "  </thead>\n",
       "  <tbody>\n",
       "    <tr>\n",
       "      <th>count</th>\n",
       "      <td>3.624994e+06</td>\n",
       "      <td>3.624994e+06</td>\n",
       "    </tr>\n",
       "    <tr>\n",
       "      <th>mean</th>\n",
       "      <td>1.536878e+00</td>\n",
       "      <td>2.348677e+01</td>\n",
       "    </tr>\n",
       "    <tr>\n",
       "      <th>std</th>\n",
       "      <td>4.986382e-01</td>\n",
       "      <td>8.047885e+01</td>\n",
       "    </tr>\n",
       "    <tr>\n",
       "      <th>min</th>\n",
       "      <td>1.000000e+00</td>\n",
       "      <td>3.000000e+00</td>\n",
       "    </tr>\n",
       "    <tr>\n",
       "      <th>25%</th>\n",
       "      <td>1.000000e+00</td>\n",
       "      <td>4.000000e+00</td>\n",
       "    </tr>\n",
       "    <tr>\n",
       "      <th>50%</th>\n",
       "      <td>2.000000e+00</td>\n",
       "      <td>7.000000e+00</td>\n",
       "    </tr>\n",
       "    <tr>\n",
       "      <th>75%</th>\n",
       "      <td>2.000000e+00</td>\n",
       "      <td>1.900000e+01</td>\n",
       "    </tr>\n",
       "    <tr>\n",
       "      <th>max</th>\n",
       "      <td>2.000000e+00</td>\n",
       "      <td>6.328000e+03</td>\n",
       "    </tr>\n",
       "  </tbody>\n",
       "</table>\n",
       "</div>"
      ],
      "text/plain": [
       "               sexe        nombre\n",
       "count  3.624994e+06  3.624994e+06\n",
       "mean   1.536878e+00  2.348677e+01\n",
       "std    4.986382e-01  8.047885e+01\n",
       "min    1.000000e+00  3.000000e+00\n",
       "25%    1.000000e+00  4.000000e+00\n",
       "50%    2.000000e+00  7.000000e+00\n",
       "75%    2.000000e+00  1.900000e+01\n",
       "max    2.000000e+00  6.328000e+03"
      ]
     },
     "execution_count": 32,
     "metadata": {},
     "output_type": "execute_result"
    }
   ],
   "source": [
    "prenoms.describe()"
   ]
  },
  {
   "cell_type": "code",
   "execution_count": 34,
   "metadata": {},
   "outputs": [
    {
     "data": {
      "text/plain": [
       "sexe         int64\n",
       "preusuel    object\n",
       "annais      object\n",
       "dpt         object\n",
       "nombre       int64\n",
       "dtype: object"
      ]
     },
     "execution_count": 34,
     "metadata": {},
     "output_type": "execute_result"
    }
   ],
   "source": [
    "prenoms.dtypes"
   ]
  },
  {
   "cell_type": "code",
   "execution_count": 36,
   "metadata": {},
   "outputs": [
    {
     "data": {
      "text/plain": [
       "Index(['sexe', 'preusuel', 'annais', 'dpt', 'nombre'], dtype='object')"
      ]
     },
     "execution_count": 36,
     "metadata": {},
     "output_type": "execute_result"
    }
   ],
   "source": [
    "prenoms.columns"
   ]
  },
  {
   "cell_type": "markdown",
   "metadata": {},
   "source": [
    "## Exercice 1"
   ]
  },
  {
   "cell_type": "raw",
   "metadata": {},
   "source": [
    "Les prénoms rares sont-ils majoritairement masculins ou féminins ?\n",
    "Quel département regroupe le plus de prénoms rares ? \n",
    "Le nombre total de naissance par année ?\n",
    "\n",
    "\n",
    "Afficher le nombre de prénoms rares par département \n",
    "Afficher le nombre de prénoms rares par année de naissance\n",
    "Afficher le nombre de naissance par année\n",
    "Afficher la proportion des naissances de femmes par année"
   ]
  },
  {
   "cell_type": "code",
   "execution_count": 37,
   "metadata": {
    "scrolled": true
   },
   "outputs": [
    {
     "data": {
      "text/plain": [
       "sexe        3624994\n",
       "preusuel    3624993\n",
       "annais      3624994\n",
       "dpt         3624994\n",
       "nombre      3624994\n",
       "dtype: int64"
      ]
     },
     "execution_count": 37,
     "metadata": {},
     "output_type": "execute_result"
    }
   ],
   "source": [
    "prenoms.count()"
   ]
  },
  {
   "cell_type": "markdown",
   "metadata": {},
   "source": [
    "## Filtrer "
   ]
  },
  {
   "cell_type": "code",
   "execution_count": 38,
   "metadata": {},
   "outputs": [
    {
     "data": {
      "text/html": [
       "<div>\n",
       "<style scoped>\n",
       "    .dataframe tbody tr th:only-of-type {\n",
       "        vertical-align: middle;\n",
       "    }\n",
       "\n",
       "    .dataframe tbody tr th {\n",
       "        vertical-align: top;\n",
       "    }\n",
       "\n",
       "    .dataframe thead th {\n",
       "        text-align: right;\n",
       "    }\n",
       "</style>\n",
       "<table border=\"1\" class=\"dataframe\">\n",
       "  <thead>\n",
       "    <tr style=\"text-align: right;\">\n",
       "      <th></th>\n",
       "      <th>sexe</th>\n",
       "      <th>preusuel</th>\n",
       "      <th>annais</th>\n",
       "      <th>dpt</th>\n",
       "      <th>nombre</th>\n",
       "    </tr>\n",
       "  </thead>\n",
       "  <tbody>\n",
       "    <tr>\n",
       "      <th>593637</th>\n",
       "      <td>1</td>\n",
       "      <td>GERMAIN</td>\n",
       "      <td>1900</td>\n",
       "      <td>02</td>\n",
       "      <td>8</td>\n",
       "    </tr>\n",
       "    <tr>\n",
       "      <th>593638</th>\n",
       "      <td>1</td>\n",
       "      <td>GERMAIN</td>\n",
       "      <td>1900</td>\n",
       "      <td>04</td>\n",
       "      <td>3</td>\n",
       "    </tr>\n",
       "    <tr>\n",
       "      <th>593639</th>\n",
       "      <td>1</td>\n",
       "      <td>GERMAIN</td>\n",
       "      <td>1900</td>\n",
       "      <td>06</td>\n",
       "      <td>4</td>\n",
       "    </tr>\n",
       "    <tr>\n",
       "      <th>593640</th>\n",
       "      <td>1</td>\n",
       "      <td>GERMAIN</td>\n",
       "      <td>1900</td>\n",
       "      <td>07</td>\n",
       "      <td>11</td>\n",
       "    </tr>\n",
       "    <tr>\n",
       "      <th>593641</th>\n",
       "      <td>1</td>\n",
       "      <td>GERMAIN</td>\n",
       "      <td>1900</td>\n",
       "      <td>09</td>\n",
       "      <td>6</td>\n",
       "    </tr>\n",
       "    <tr>\n",
       "      <th>...</th>\n",
       "      <td>...</td>\n",
       "      <td>...</td>\n",
       "      <td>...</td>\n",
       "      <td>...</td>\n",
       "      <td>...</td>\n",
       "    </tr>\n",
       "    <tr>\n",
       "      <th>597525</th>\n",
       "      <td>1</td>\n",
       "      <td>GERMAIN</td>\n",
       "      <td>2018</td>\n",
       "      <td>75</td>\n",
       "      <td>3</td>\n",
       "    </tr>\n",
       "    <tr>\n",
       "      <th>597526</th>\n",
       "      <td>1</td>\n",
       "      <td>GERMAIN</td>\n",
       "      <td>XXXX</td>\n",
       "      <td>XX</td>\n",
       "      <td>4791</td>\n",
       "    </tr>\n",
       "    <tr>\n",
       "      <th>2432014</th>\n",
       "      <td>2</td>\n",
       "      <td>GERMAIN</td>\n",
       "      <td>1953</td>\n",
       "      <td>972</td>\n",
       "      <td>3</td>\n",
       "    </tr>\n",
       "    <tr>\n",
       "      <th>2432015</th>\n",
       "      <td>2</td>\n",
       "      <td>GERMAIN</td>\n",
       "      <td>1954</td>\n",
       "      <td>972</td>\n",
       "      <td>3</td>\n",
       "    </tr>\n",
       "    <tr>\n",
       "      <th>2432016</th>\n",
       "      <td>2</td>\n",
       "      <td>GERMAIN</td>\n",
       "      <td>XXXX</td>\n",
       "      <td>XX</td>\n",
       "      <td>120</td>\n",
       "    </tr>\n",
       "  </tbody>\n",
       "</table>\n",
       "<p>3893 rows × 5 columns</p>\n",
       "</div>"
      ],
      "text/plain": [
       "         sexe preusuel annais  dpt  nombre\n",
       "593637      1  GERMAIN   1900   02       8\n",
       "593638      1  GERMAIN   1900   04       3\n",
       "593639      1  GERMAIN   1900   06       4\n",
       "593640      1  GERMAIN   1900   07      11\n",
       "593641      1  GERMAIN   1900   09       6\n",
       "...       ...      ...    ...  ...     ...\n",
       "597525      1  GERMAIN   2018   75       3\n",
       "597526      1  GERMAIN   XXXX   XX    4791\n",
       "2432014     2  GERMAIN   1953  972       3\n",
       "2432015     2  GERMAIN   1954  972       3\n",
       "2432016     2  GERMAIN   XXXX   XX     120\n",
       "\n",
       "[3893 rows x 5 columns]"
      ]
     },
     "execution_count": 38,
     "metadata": {},
     "output_type": "execute_result"
    }
   ],
   "source": [
    "prenoms[prenoms.preusuel==\"GERMAIN\"]"
   ]
  },
  {
   "cell_type": "code",
   "execution_count": 39,
   "metadata": {},
   "outputs": [
    {
     "data": {
      "text/plain": [
       "sexe        3893\n",
       "preusuel    3893\n",
       "annais      3893\n",
       "dpt         3893\n",
       "nombre      3893\n",
       "dtype: int64"
      ]
     },
     "execution_count": 39,
     "metadata": {},
     "output_type": "execute_result"
    }
   ],
   "source": [
    "prenoms[prenoms.preusuel==\"GERMAIN\"].count()"
   ]
  },
  {
   "cell_type": "code",
   "execution_count": 42,
   "metadata": {},
   "outputs": [
    {
     "data": {
      "text/html": [
       "<div>\n",
       "<style scoped>\n",
       "    .dataframe tbody tr th:only-of-type {\n",
       "        vertical-align: middle;\n",
       "    }\n",
       "\n",
       "    .dataframe tbody tr th {\n",
       "        vertical-align: top;\n",
       "    }\n",
       "\n",
       "    .dataframe thead th {\n",
       "        text-align: right;\n",
       "    }\n",
       "</style>\n",
       "<table border=\"1\" class=\"dataframe\">\n",
       "  <thead>\n",
       "    <tr style=\"text-align: right;\">\n",
       "      <th></th>\n",
       "      <th>sexe</th>\n",
       "      <th>preusuel</th>\n",
       "      <th>annais</th>\n",
       "      <th>dpt</th>\n",
       "      <th>nombre</th>\n",
       "    </tr>\n",
       "  </thead>\n",
       "  <tbody>\n",
       "    <tr>\n",
       "      <th>0</th>\n",
       "      <td>1</td>\n",
       "      <td>A</td>\n",
       "      <td>XXXX</td>\n",
       "      <td>XX</td>\n",
       "      <td>27</td>\n",
       "    </tr>\n",
       "    <tr>\n",
       "      <th>1</th>\n",
       "      <td>1</td>\n",
       "      <td>AADAM</td>\n",
       "      <td>XXXX</td>\n",
       "      <td>XX</td>\n",
       "      <td>27</td>\n",
       "    </tr>\n",
       "    <tr>\n",
       "      <th>2</th>\n",
       "      <td>1</td>\n",
       "      <td>AADEL</td>\n",
       "      <td>XXXX</td>\n",
       "      <td>XX</td>\n",
       "      <td>55</td>\n",
       "    </tr>\n",
       "    <tr>\n",
       "      <th>5</th>\n",
       "      <td>1</td>\n",
       "      <td>AADIL</td>\n",
       "      <td>XXXX</td>\n",
       "      <td>XX</td>\n",
       "      <td>175</td>\n",
       "    </tr>\n",
       "    <tr>\n",
       "      <th>7</th>\n",
       "      <td>1</td>\n",
       "      <td>AAHIL</td>\n",
       "      <td>XXXX</td>\n",
       "      <td>XX</td>\n",
       "      <td>17</td>\n",
       "    </tr>\n",
       "    <tr>\n",
       "      <th>...</th>\n",
       "      <td>...</td>\n",
       "      <td>...</td>\n",
       "      <td>...</td>\n",
       "      <td>...</td>\n",
       "      <td>...</td>\n",
       "    </tr>\n",
       "    <tr>\n",
       "      <th>3624988</th>\n",
       "      <td>2</td>\n",
       "      <td>ÉVY</td>\n",
       "      <td>XXXX</td>\n",
       "      <td>XX</td>\n",
       "      <td>89</td>\n",
       "    </tr>\n",
       "    <tr>\n",
       "      <th>3624990</th>\n",
       "      <td>2</td>\n",
       "      <td>ÉYA</td>\n",
       "      <td>XXXX</td>\n",
       "      <td>XX</td>\n",
       "      <td>23</td>\n",
       "    </tr>\n",
       "    <tr>\n",
       "      <th>3624991</th>\n",
       "      <td>2</td>\n",
       "      <td>ÏNAYA</td>\n",
       "      <td>XXXX</td>\n",
       "      <td>XX</td>\n",
       "      <td>21</td>\n",
       "    </tr>\n",
       "    <tr>\n",
       "      <th>3624992</th>\n",
       "      <td>2</td>\n",
       "      <td>ÖZGE</td>\n",
       "      <td>XXXX</td>\n",
       "      <td>XX</td>\n",
       "      <td>30</td>\n",
       "    </tr>\n",
       "    <tr>\n",
       "      <th>3624993</th>\n",
       "      <td>2</td>\n",
       "      <td>ÖZLEM</td>\n",
       "      <td>XXXX</td>\n",
       "      <td>XX</td>\n",
       "      <td>95</td>\n",
       "    </tr>\n",
       "  </tbody>\n",
       "</table>\n",
       "<p>35608 rows × 5 columns</p>\n",
       "</div>"
      ],
      "text/plain": [
       "         sexe preusuel annais dpt  nombre\n",
       "0           1        A   XXXX  XX      27\n",
       "1           1    AADAM   XXXX  XX      27\n",
       "2           1    AADEL   XXXX  XX      55\n",
       "5           1    AADIL   XXXX  XX     175\n",
       "7           1    AAHIL   XXXX  XX      17\n",
       "...       ...      ...    ...  ..     ...\n",
       "3624988     2      ÉVY   XXXX  XX      89\n",
       "3624990     2      ÉYA   XXXX  XX      23\n",
       "3624991     2    ÏNAYA   XXXX  XX      21\n",
       "3624992     2     ÖZGE   XXXX  XX      30\n",
       "3624993     2    ÖZLEM   XXXX  XX      95\n",
       "\n",
       "[35608 rows x 5 columns]"
      ]
     },
     "execution_count": 42,
     "metadata": {},
     "output_type": "execute_result"
    }
   ],
   "source": [
    "prenoms[prenoms.dpt==\"XX\"]"
   ]
  },
  {
   "cell_type": "code",
   "execution_count": 43,
   "metadata": {},
   "outputs": [
    {
     "data": {
      "text/plain": [
       "sexe        35608\n",
       "preusuel    35607\n",
       "annais      35608\n",
       "dpt         35608\n",
       "nombre      35608\n",
       "dtype: int64"
      ]
     },
     "execution_count": 43,
     "metadata": {},
     "output_type": "execute_result"
    }
   ],
   "source": [
    "prenoms[prenoms.dpt==\"XX\"].count()"
   ]
  },
  {
   "cell_type": "code",
   "execution_count": 44,
   "metadata": {},
   "outputs": [
    {
     "data": {
      "text/plain": [
       "sexe        3589386\n",
       "preusuel    3589386\n",
       "annais      3589386\n",
       "dpt         3589386\n",
       "nombre      3589386\n",
       "dtype: int64"
      ]
     },
     "execution_count": 44,
     "metadata": {},
     "output_type": "execute_result"
    }
   ],
   "source": [
    "prenoms[prenoms.dpt!=\"XX\"].count()"
   ]
  },
  {
   "cell_type": "markdown",
   "metadata": {},
   "source": [
    "## Sélectionner une colonne"
   ]
  },
  {
   "cell_type": "code",
   "execution_count": 45,
   "metadata": {},
   "outputs": [
    {
     "data": {
      "text/plain": [
       "0          1\n",
       "1          1\n",
       "2          1\n",
       "3          1\n",
       "4          1\n",
       "          ..\n",
       "3624989    2\n",
       "3624990    2\n",
       "3624991    2\n",
       "3624992    2\n",
       "3624993    2\n",
       "Name: sexe, Length: 3624994, dtype: int64"
      ]
     },
     "execution_count": 45,
     "metadata": {},
     "output_type": "execute_result"
    }
   ],
   "source": [
    "prenoms[\"sexe\"]"
   ]
  },
  {
   "cell_type": "code",
   "execution_count": 46,
   "metadata": {},
   "outputs": [
    {
     "data": {
      "text/plain": [
       "593637     1\n",
       "593638     1\n",
       "593639     1\n",
       "593640     1\n",
       "593641     1\n",
       "          ..\n",
       "597525     1\n",
       "597526     1\n",
       "2432014    2\n",
       "2432015    2\n",
       "2432016    2\n",
       "Name: sexe, Length: 3893, dtype: int64"
      ]
     },
     "execution_count": 46,
     "metadata": {},
     "output_type": "execute_result"
    }
   ],
   "source": [
    "prenoms[prenoms.preusuel==\"GERMAIN\"][\"sexe\"]"
   ]
  },
  {
   "cell_type": "code",
   "execution_count": 52,
   "metadata": {},
   "outputs": [
    {
     "data": {
      "text/html": [
       "<div>\n",
       "<style scoped>\n",
       "    .dataframe tbody tr th:only-of-type {\n",
       "        vertical-align: middle;\n",
       "    }\n",
       "\n",
       "    .dataframe tbody tr th {\n",
       "        vertical-align: top;\n",
       "    }\n",
       "\n",
       "    .dataframe thead th {\n",
       "        text-align: right;\n",
       "    }\n",
       "</style>\n",
       "<table border=\"1\" class=\"dataframe\">\n",
       "  <thead>\n",
       "    <tr style=\"text-align: right;\">\n",
       "      <th></th>\n",
       "      <th>sexe</th>\n",
       "      <th>preusuel</th>\n",
       "      <th>annais</th>\n",
       "      <th>dpt</th>\n",
       "      <th>nombre</th>\n",
       "    </tr>\n",
       "  </thead>\n",
       "  <tbody>\n",
       "    <tr>\n",
       "      <th>2103885</th>\n",
       "      <td>2</td>\n",
       "      <td>CLOTHILDE</td>\n",
       "      <td>XXXX</td>\n",
       "      <td>XX</td>\n",
       "      <td>3004</td>\n",
       "    </tr>\n",
       "    <tr>\n",
       "      <th>3503564</th>\n",
       "      <td>2</td>\n",
       "      <td>SYLVIE</td>\n",
       "      <td>1964</td>\n",
       "      <td>75</td>\n",
       "      <td>3011</td>\n",
       "    </tr>\n",
       "    <tr>\n",
       "      <th>2009466</th>\n",
       "      <td>2</td>\n",
       "      <td>CATHERINE</td>\n",
       "      <td>1960</td>\n",
       "      <td>75</td>\n",
       "      <td>3012</td>\n",
       "    </tr>\n",
       "    <tr>\n",
       "      <th>3410953</th>\n",
       "      <td>2</td>\n",
       "      <td>SARA</td>\n",
       "      <td>XXXX</td>\n",
       "      <td>XX</td>\n",
       "      <td>3012</td>\n",
       "    </tr>\n",
       "    <tr>\n",
       "      <th>1010328</th>\n",
       "      <td>1</td>\n",
       "      <td>LUIS</td>\n",
       "      <td>XXXX</td>\n",
       "      <td>XX</td>\n",
       "      <td>3014</td>\n",
       "    </tr>\n",
       "    <tr>\n",
       "      <th>...</th>\n",
       "      <td>...</td>\n",
       "      <td>...</td>\n",
       "      <td>...</td>\n",
       "      <td>...</td>\n",
       "      <td>...</td>\n",
       "    </tr>\n",
       "    <tr>\n",
       "      <th>1123654</th>\n",
       "      <td>1</td>\n",
       "      <td>MAX</td>\n",
       "      <td>XXXX</td>\n",
       "      <td>XX</td>\n",
       "      <td>5558</td>\n",
       "    </tr>\n",
       "    <tr>\n",
       "      <th>1808440</th>\n",
       "      <td>2</td>\n",
       "      <td>ANGELINE</td>\n",
       "      <td>XXXX</td>\n",
       "      <td>XX</td>\n",
       "      <td>5591</td>\n",
       "    </tr>\n",
       "    <tr>\n",
       "      <th>742602</th>\n",
       "      <td>1</td>\n",
       "      <td>JEAN</td>\n",
       "      <td>1947</td>\n",
       "      <td>75</td>\n",
       "      <td>5802</td>\n",
       "    </tr>\n",
       "    <tr>\n",
       "      <th>2107312</th>\n",
       "      <td>2</td>\n",
       "      <td>CLOTILDE</td>\n",
       "      <td>XXXX</td>\n",
       "      <td>XX</td>\n",
       "      <td>5831</td>\n",
       "    </tr>\n",
       "    <tr>\n",
       "      <th>742508</th>\n",
       "      <td>1</td>\n",
       "      <td>JEAN</td>\n",
       "      <td>1946</td>\n",
       "      <td>75</td>\n",
       "      <td>6328</td>\n",
       "    </tr>\n",
       "  </tbody>\n",
       "</table>\n",
       "<p>384 rows × 5 columns</p>\n",
       "</div>"
      ],
      "text/plain": [
       "         sexe   preusuel annais dpt  nombre\n",
       "2103885     2  CLOTHILDE   XXXX  XX    3004\n",
       "3503564     2     SYLVIE   1964  75    3011\n",
       "2009466     2  CATHERINE   1960  75    3012\n",
       "3410953     2       SARA   XXXX  XX    3012\n",
       "1010328     1       LUIS   XXXX  XX    3014\n",
       "...       ...        ...    ...  ..     ...\n",
       "1123654     1        MAX   XXXX  XX    5558\n",
       "1808440     2   ANGELINE   XXXX  XX    5591\n",
       "742602      1       JEAN   1947  75    5802\n",
       "2107312     2   CLOTILDE   XXXX  XX    5831\n",
       "742508      1       JEAN   1946  75    6328\n",
       "\n",
       "[384 rows x 5 columns]"
      ]
     },
     "execution_count": 52,
     "metadata": {},
     "output_type": "execute_result"
    }
   ],
   "source": [
    "#Classé par ordre croissant \n",
    "prenoms[prenoms[\"nombre\"]>3000].sort_values(by=\"nombre\")"
   ]
  },
  {
   "cell_type": "code",
   "execution_count": 53,
   "metadata": {},
   "outputs": [
    {
     "data": {
      "text/html": [
       "<div>\n",
       "<style scoped>\n",
       "    .dataframe tbody tr th:only-of-type {\n",
       "        vertical-align: middle;\n",
       "    }\n",
       "\n",
       "    .dataframe tbody tr th {\n",
       "        vertical-align: top;\n",
       "    }\n",
       "\n",
       "    .dataframe thead th {\n",
       "        text-align: right;\n",
       "    }\n",
       "</style>\n",
       "<table border=\"1\" class=\"dataframe\">\n",
       "  <thead>\n",
       "    <tr style=\"text-align: right;\">\n",
       "      <th></th>\n",
       "      <th>sexe</th>\n",
       "      <th>preusuel</th>\n",
       "      <th>annais</th>\n",
       "      <th>dpt</th>\n",
       "      <th>nombre</th>\n",
       "    </tr>\n",
       "  </thead>\n",
       "  <tbody>\n",
       "    <tr>\n",
       "      <th>742508</th>\n",
       "      <td>1</td>\n",
       "      <td>JEAN</td>\n",
       "      <td>1946</td>\n",
       "      <td>75</td>\n",
       "      <td>6328</td>\n",
       "    </tr>\n",
       "    <tr>\n",
       "      <th>2107312</th>\n",
       "      <td>2</td>\n",
       "      <td>CLOTILDE</td>\n",
       "      <td>XXXX</td>\n",
       "      <td>XX</td>\n",
       "      <td>5831</td>\n",
       "    </tr>\n",
       "    <tr>\n",
       "      <th>742602</th>\n",
       "      <td>1</td>\n",
       "      <td>JEAN</td>\n",
       "      <td>1947</td>\n",
       "      <td>75</td>\n",
       "      <td>5802</td>\n",
       "    </tr>\n",
       "    <tr>\n",
       "      <th>1808440</th>\n",
       "      <td>2</td>\n",
       "      <td>ANGELINE</td>\n",
       "      <td>XXXX</td>\n",
       "      <td>XX</td>\n",
       "      <td>5591</td>\n",
       "    </tr>\n",
       "    <tr>\n",
       "      <th>1123654</th>\n",
       "      <td>1</td>\n",
       "      <td>MAX</td>\n",
       "      <td>XXXX</td>\n",
       "      <td>XX</td>\n",
       "      <td>5558</td>\n",
       "    </tr>\n",
       "    <tr>\n",
       "      <th>...</th>\n",
       "      <td>...</td>\n",
       "      <td>...</td>\n",
       "      <td>...</td>\n",
       "      <td>...</td>\n",
       "      <td>...</td>\n",
       "    </tr>\n",
       "    <tr>\n",
       "      <th>37823</th>\n",
       "      <td>1</td>\n",
       "      <td>ALAIN</td>\n",
       "      <td>1951</td>\n",
       "      <td>75</td>\n",
       "      <td>3014</td>\n",
       "    </tr>\n",
       "    <tr>\n",
       "      <th>3410953</th>\n",
       "      <td>2</td>\n",
       "      <td>SARA</td>\n",
       "      <td>XXXX</td>\n",
       "      <td>XX</td>\n",
       "      <td>3012</td>\n",
       "    </tr>\n",
       "    <tr>\n",
       "      <th>2009466</th>\n",
       "      <td>2</td>\n",
       "      <td>CATHERINE</td>\n",
       "      <td>1960</td>\n",
       "      <td>75</td>\n",
       "      <td>3012</td>\n",
       "    </tr>\n",
       "    <tr>\n",
       "      <th>3503564</th>\n",
       "      <td>2</td>\n",
       "      <td>SYLVIE</td>\n",
       "      <td>1964</td>\n",
       "      <td>75</td>\n",
       "      <td>3011</td>\n",
       "    </tr>\n",
       "    <tr>\n",
       "      <th>2103885</th>\n",
       "      <td>2</td>\n",
       "      <td>CLOTHILDE</td>\n",
       "      <td>XXXX</td>\n",
       "      <td>XX</td>\n",
       "      <td>3004</td>\n",
       "    </tr>\n",
       "  </tbody>\n",
       "</table>\n",
       "<p>384 rows × 5 columns</p>\n",
       "</div>"
      ],
      "text/plain": [
       "         sexe   preusuel annais dpt  nombre\n",
       "742508      1       JEAN   1946  75    6328\n",
       "2107312     2   CLOTILDE   XXXX  XX    5831\n",
       "742602      1       JEAN   1947  75    5802\n",
       "1808440     2   ANGELINE   XXXX  XX    5591\n",
       "1123654     1        MAX   XXXX  XX    5558\n",
       "...       ...        ...    ...  ..     ...\n",
       "37823       1      ALAIN   1951  75    3014\n",
       "3410953     2       SARA   XXXX  XX    3012\n",
       "2009466     2  CATHERINE   1960  75    3012\n",
       "3503564     2     SYLVIE   1964  75    3011\n",
       "2103885     2  CLOTHILDE   XXXX  XX    3004\n",
       "\n",
       "[384 rows x 5 columns]"
      ]
     },
     "execution_count": 53,
     "metadata": {},
     "output_type": "execute_result"
    }
   ],
   "source": [
    "#classé par ordre décroissant\n",
    "prenoms[prenoms[\"nombre\"]>3000].sort_values(by=\"nombre\", ascending= False)"
   ]
  },
  {
   "cell_type": "code",
   "execution_count": 58,
   "metadata": {},
   "outputs": [
    {
     "data": {
      "text/html": [
       "<div>\n",
       "<style scoped>\n",
       "    .dataframe tbody tr th:only-of-type {\n",
       "        vertical-align: middle;\n",
       "    }\n",
       "\n",
       "    .dataframe tbody tr th {\n",
       "        vertical-align: top;\n",
       "    }\n",
       "\n",
       "    .dataframe thead th {\n",
       "        text-align: right;\n",
       "    }\n",
       "</style>\n",
       "<table border=\"1\" class=\"dataframe\">\n",
       "  <thead>\n",
       "    <tr style=\"text-align: right;\">\n",
       "      <th></th>\n",
       "      <th>sexe</th>\n",
       "      <th>preusuel</th>\n",
       "      <th>annais</th>\n",
       "      <th>dpt</th>\n",
       "      <th>nombre</th>\n",
       "    </tr>\n",
       "  </thead>\n",
       "  <tbody>\n",
       "    <tr>\n",
       "      <th>593680</th>\n",
       "      <td>1</td>\n",
       "      <td>GERMAIN</td>\n",
       "      <td>1900</td>\n",
       "      <td>64</td>\n",
       "      <td>8</td>\n",
       "    </tr>\n",
       "    <tr>\n",
       "      <th>593681</th>\n",
       "      <td>1</td>\n",
       "      <td>GERMAIN</td>\n",
       "      <td>1900</td>\n",
       "      <td>65</td>\n",
       "      <td>3</td>\n",
       "    </tr>\n",
       "    <tr>\n",
       "      <th>593682</th>\n",
       "      <td>1</td>\n",
       "      <td>GERMAIN</td>\n",
       "      <td>1900</td>\n",
       "      <td>68</td>\n",
       "      <td>4</td>\n",
       "    </tr>\n",
       "    <tr>\n",
       "      <th>593683</th>\n",
       "      <td>1</td>\n",
       "      <td>GERMAIN</td>\n",
       "      <td>1900</td>\n",
       "      <td>69</td>\n",
       "      <td>4</td>\n",
       "    </tr>\n",
       "    <tr>\n",
       "      <th>593684</th>\n",
       "      <td>1</td>\n",
       "      <td>GERMAIN</td>\n",
       "      <td>1900</td>\n",
       "      <td>71</td>\n",
       "      <td>3</td>\n",
       "    </tr>\n",
       "    <tr>\n",
       "      <th>...</th>\n",
       "      <td>...</td>\n",
       "      <td>...</td>\n",
       "      <td>...</td>\n",
       "      <td>...</td>\n",
       "      <td>...</td>\n",
       "    </tr>\n",
       "    <tr>\n",
       "      <th>597523</th>\n",
       "      <td>1</td>\n",
       "      <td>GERMAIN</td>\n",
       "      <td>2018</td>\n",
       "      <td>35</td>\n",
       "      <td>3</td>\n",
       "    </tr>\n",
       "    <tr>\n",
       "      <th>597524</th>\n",
       "      <td>1</td>\n",
       "      <td>GERMAIN</td>\n",
       "      <td>2018</td>\n",
       "      <td>59</td>\n",
       "      <td>4</td>\n",
       "    </tr>\n",
       "    <tr>\n",
       "      <th>597525</th>\n",
       "      <td>1</td>\n",
       "      <td>GERMAIN</td>\n",
       "      <td>2018</td>\n",
       "      <td>75</td>\n",
       "      <td>3</td>\n",
       "    </tr>\n",
       "    <tr>\n",
       "      <th>597526</th>\n",
       "      <td>1</td>\n",
       "      <td>GERMAIN</td>\n",
       "      <td>XXXX</td>\n",
       "      <td>XX</td>\n",
       "      <td>4791</td>\n",
       "    </tr>\n",
       "    <tr>\n",
       "      <th>2432016</th>\n",
       "      <td>2</td>\n",
       "      <td>GERMAIN</td>\n",
       "      <td>XXXX</td>\n",
       "      <td>XX</td>\n",
       "      <td>120</td>\n",
       "    </tr>\n",
       "  </tbody>\n",
       "</table>\n",
       "<p>3883 rows × 5 columns</p>\n",
       "</div>"
      ],
      "text/plain": [
       "         sexe preusuel annais dpt  nombre\n",
       "593680      1  GERMAIN   1900  64       8\n",
       "593681      1  GERMAIN   1900  65       3\n",
       "593682      1  GERMAIN   1900  68       4\n",
       "593683      1  GERMAIN   1900  69       4\n",
       "593684      1  GERMAIN   1900  71       3\n",
       "...       ...      ...    ...  ..     ...\n",
       "597523      1  GERMAIN   2018  35       3\n",
       "597524      1  GERMAIN   2018  59       4\n",
       "597525      1  GERMAIN   2018  75       3\n",
       "597526      1  GERMAIN   XXXX  XX    4791\n",
       "2432016     2  GERMAIN   XXXX  XX     120\n",
       "\n",
       "[3883 rows x 5 columns]"
      ]
     },
     "execution_count": 58,
     "metadata": {},
     "output_type": "execute_result"
    }
   ],
   "source": [
    "#FILTER, SORT and SLICE\n",
    "prenoms[prenoms.preusuel==\"GERMAIN\"].sort_values(by=\"annais\")[10:]"
   ]
  },
  {
   "cell_type": "code",
   "execution_count": 59,
   "metadata": {},
   "outputs": [
    {
     "data": {
      "text/plain": [
       "sexe\n",
       "1    42888936\n",
       "2    42250453\n",
       "Name: nombre, dtype: int64"
      ]
     },
     "execution_count": 59,
     "metadata": {},
     "output_type": "execute_result"
    }
   ],
   "source": [
    "#GROUP BY\n",
    "prenoms.groupby(\"sexe\").nombre.sum()"
   ]
  },
  {
   "cell_type": "code",
   "execution_count": 61,
   "metadata": {},
   "outputs": [
    {
     "data": {
      "text/plain": [
       "dpt\n",
       "49     1038971\n",
       "54     1072171\n",
       "42     1084028\n",
       "38     1104186\n",
       "92     1153065\n",
       "35     1182540\n",
       "974    1192007\n",
       "29     1310770\n",
       "67     1335948\n",
       "57     1447510\n",
       "44     1470782\n",
       "33     1504481\n",
       "76     1891236\n",
       "13     1966975\n",
       "78     1978581\n",
       "69     2073802\n",
       "62     2350845\n",
       "59     4175920\n",
       "75     6160048\n",
       "XX     8261688\n",
       "Name: nombre, dtype: int64"
      ]
     },
     "execution_count": 61,
     "metadata": {},
     "output_type": "execute_result"
    }
   ],
   "source": [
    "prenoms.groupby(\"dpt\").nombre.sum().sort_values()[-20:]"
   ]
  },
  {
   "cell_type": "code",
   "execution_count": 65,
   "metadata": {},
   "outputs": [
    {
     "data": {
      "text/plain": [
       "preusuel\n",
       "DOMINIQUE          409919\n",
       "PAUL               416412\n",
       "ROBERT             419297\n",
       "ROGER              423873\n",
       "DANIEL             435021\n",
       "MARCEL             467850\n",
       "CLAUDE             468445\n",
       "BERNARD            469399\n",
       "JACQUES            482812\n",
       "ALAIN              506899\n",
       "RENÉ               516739\n",
       "LOUIS              517774\n",
       "PHILIPPE           538661\n",
       "JEANNE             556074\n",
       "ANDRÉ              712568\n",
       "MICHEL             820459\n",
       "PIERRE             891894\n",
       "_PRENOMS_RARES    1575032\n",
       "JEAN              1917129\n",
       "MARIE             2260236\n",
       "Name: nombre, dtype: int64"
      ]
     },
     "execution_count": 65,
     "metadata": {},
     "output_type": "execute_result"
    }
   ],
   "source": [
    "#Top given name\n",
    "prenoms.groupby(\"preusuel\").nombre.sum().sort_values()[-20:]"
   ]
  },
  {
   "cell_type": "code",
   "execution_count": 63,
   "metadata": {},
   "outputs": [
    {
     "data": {
      "text/plain": [
       "preusuel\n",
       "SCHÉRAZADE     20\n",
       "SHYM           20\n",
       "SHYMA          20\n",
       "GIANMARCO      20\n",
       "MPALY          20\n",
       "BETHEL         20\n",
       "ROMILDE        20\n",
       "GIBRYL         20\n",
       "LIRA           20\n",
       "IMRANA         20\n",
       "LIOVA          20\n",
       "SHYNNA         20\n",
       "MARC-ALBERT    20\n",
       "NOLWAN         20\n",
       "ALIHA          20\n",
       "ALIFA          20\n",
       "LIOBA          20\n",
       "GILAINE        20\n",
       "KACIA          20\n",
       "MARC'ANTO      20\n",
       "Name: nombre, dtype: int64"
      ]
     },
     "execution_count": 63,
     "metadata": {},
     "output_type": "execute_result"
    }
   ],
   "source": [
    "prenoms.groupby(\"preusuel\").nombre.sum().sort_values()[:20]"
   ]
  },
  {
   "cell_type": "markdown",
   "metadata": {},
   "source": [
    "## Nettoyage des données"
   ]
  },
  {
   "cell_type": "code",
   "execution_count": 67,
   "metadata": {},
   "outputs": [
    {
     "data": {
      "text/plain": [
       "sexe        3624994\n",
       "preusuel    3624993\n",
       "annais      3624994\n",
       "dpt         3624994\n",
       "nombre      3624994\n",
       "dtype: int64"
      ]
     },
     "execution_count": 67,
     "metadata": {},
     "output_type": "execute_result"
    }
   ],
   "source": [
    "prenoms.count()"
   ]
  },
  {
   "cell_type": "code",
   "execution_count": 75,
   "metadata": {},
   "outputs": [
    {
     "data": {
      "text/plain": [
       "sexe        3589386\n",
       "preusuel    3589386\n",
       "annais      3589386\n",
       "dpt         3589386\n",
       "nombre      3589386\n",
       "dtype: int64"
      ]
     },
     "execution_count": 75,
     "metadata": {},
     "output_type": "execute_result"
    }
   ],
   "source": [
    "prenoms=prenoms[(prenoms.dpt!=\"XX\")]\n",
    "prenoms.count()"
   ]
  },
  {
   "cell_type": "code",
   "execution_count": null,
   "metadata": {},
   "outputs": [],
   "source": []
  },
  {
   "cell_type": "code",
   "execution_count": 76,
   "metadata": {},
   "outputs": [
    {
     "data": {
      "text/plain": [
       "<AxesSubplot:xlabel='annais'>"
      ]
     },
     "execution_count": 76,
     "metadata": {},
     "output_type": "execute_result"
    },
    {
     "data": {
      "image/png": "[encoded data removed]",
      "text/plain": [
       "<Figure size 432x288 with 1 Axes>"
      ]
     },
     "metadata": {
      "needs_background": "light"
     },
     "output_type": "display_data"
    }
   ],
   "source": [
    "prenoms[(prenoms.preusuel==\"PAUL\")].groupby(prenoms.annais).nombre.sum().plot()"
   ]
  },
  {
   "cell_type": "code",
   "execution_count": 77,
   "metadata": {},
   "outputs": [],
   "source": [
    "total_naissances=prenoms.pivot_table('nombre', index='annais', columns='sexe', aggfunc=sum)"
   ]
  },
  {
   "cell_type": "code",
   "execution_count": 78,
   "metadata": {},
   "outputs": [
    {
     "data": {
      "text/html": [
       "<div>\n",
       "<style scoped>\n",
       "    .dataframe tbody tr th:only-of-type {\n",
       "        vertical-align: middle;\n",
       "    }\n",
       "\n",
       "    .dataframe tbody tr th {\n",
       "        vertical-align: top;\n",
       "    }\n",
       "\n",
       "    .dataframe thead th {\n",
       "        text-align: right;\n",
       "    }\n",
       "</style>\n",
       "<table border=\"1\" class=\"dataframe\">\n",
       "  <thead>\n",
       "    <tr style=\"text-align: right;\">\n",
       "      <th>sexe</th>\n",
       "      <th>1</th>\n",
       "      <th>2</th>\n",
       "    </tr>\n",
       "    <tr>\n",
       "      <th>annais</th>\n",
       "      <th></th>\n",
       "      <th></th>\n",
       "    </tr>\n",
       "  </thead>\n",
       "  <tbody>\n",
       "    <tr>\n",
       "      <th>1900</th>\n",
       "      <td>168332</td>\n",
       "      <td>225100</td>\n",
       "    </tr>\n",
       "    <tr>\n",
       "      <th>1901</th>\n",
       "      <td>186710</td>\n",
       "      <td>245022</td>\n",
       "    </tr>\n",
       "    <tr>\n",
       "      <th>1902</th>\n",
       "      <td>195069</td>\n",
       "      <td>248817</td>\n",
       "    </tr>\n",
       "    <tr>\n",
       "      <th>1903</th>\n",
       "      <td>197952</td>\n",
       "      <td>248681</td>\n",
       "    </tr>\n",
       "    <tr>\n",
       "      <th>1904</th>\n",
       "      <td>204735</td>\n",
       "      <td>252171</td>\n",
       "    </tr>\n",
       "    <tr>\n",
       "      <th>...</th>\n",
       "      <td>...</td>\n",
       "      <td>...</td>\n",
       "    </tr>\n",
       "    <tr>\n",
       "      <th>2014</th>\n",
       "      <td>326851</td>\n",
       "      <td>293727</td>\n",
       "    </tr>\n",
       "    <tr>\n",
       "      <th>2015</th>\n",
       "      <td>317615</td>\n",
       "      <td>284612</td>\n",
       "    </tr>\n",
       "    <tr>\n",
       "      <th>2016</th>\n",
       "      <td>309316</td>\n",
       "      <td>277646</td>\n",
       "    </tr>\n",
       "    <tr>\n",
       "      <th>2017</th>\n",
       "      <td>301974</td>\n",
       "      <td>271703</td>\n",
       "    </tr>\n",
       "    <tr>\n",
       "      <th>2018</th>\n",
       "      <td>297526</td>\n",
       "      <td>266733</td>\n",
       "    </tr>\n",
       "  </tbody>\n",
       "</table>\n",
       "<p>119 rows × 2 columns</p>\n",
       "</div>"
      ],
      "text/plain": [
       "sexe         1       2\n",
       "annais                \n",
       "1900    168332  225100\n",
       "1901    186710  245022\n",
       "1902    195069  248817\n",
       "1903    197952  248681\n",
       "1904    204735  252171\n",
       "...        ...     ...\n",
       "2014    326851  293727\n",
       "2015    317615  284612\n",
       "2016    309316  277646\n",
       "2017    301974  271703\n",
       "2018    297526  266733\n",
       "\n",
       "[119 rows x 2 columns]"
      ]
     },
     "execution_count": 78,
     "metadata": {},
     "output_type": "execute_result"
    }
   ],
   "source": [
    "total_naissances"
   ]
  },
  {
   "cell_type": "markdown",
   "metadata": {},
   "source": [
    "## Exercice 2"
   ]
  },
  {
   "cell_type": "code",
   "execution_count": 88,
   "metadata": {},
   "outputs": [],
   "source": [
    "#chargement dataset\n",
    "#https://www.data.gouv.fr/fr/datasets/depenses-d-assurance-maladie-hors-prestations-hospitalieres-donnees-nationales/#_\n",
    "dep_maladie= pd.read_csv(\"C:\\\\Users\\\\Honoré Marie-Alix\\\\Documents\\\\2 ESILV\\\\A5\\\\Python for data analysis\\\\TD1\\\\N201912.csv\", sep=';', encoding =\"ANSI\")"
   ]
  },
  {
   "cell_type": "code",
   "execution_count": 89,
   "metadata": {
    "scrolled": true
   },
   "outputs": [
    {
     "data": {
      "text/html": [
       "<div>\n",
       "<style scoped>\n",
       "    .dataframe tbody tr th:only-of-type {\n",
       "        vertical-align: middle;\n",
       "    }\n",
       "\n",
       "    .dataframe tbody tr th {\n",
       "        vertical-align: top;\n",
       "    }\n",
       "\n",
       "    .dataframe thead th {\n",
       "        text-align: right;\n",
       "    }\n",
       "</style>\n",
       "<table border=\"1\" class=\"dataframe\">\n",
       "  <thead>\n",
       "    <tr style=\"text-align: right;\">\n",
       "      <th></th>\n",
       "      <th>l_serie</th>\n",
       "      <th>SERIE</th>\n",
       "      <th>prs_nat</th>\n",
       "      <th>l_prs_nat</th>\n",
       "      <th>rem_date</th>\n",
       "      <th>sns_date</th>\n",
       "      <th>asu_nat</th>\n",
       "      <th>l_asu_nat</th>\n",
       "      <th>cpl_cod</th>\n",
       "      <th>l_cpl_cod</th>\n",
       "      <th>...</th>\n",
       "      <th>l_exe_spe</th>\n",
       "      <th>exe_spe1</th>\n",
       "      <th>l_exe_spe1</th>\n",
       "      <th>exe_stj1</th>\n",
       "      <th>l_exe_stj1</th>\n",
       "      <th>rem_mon</th>\n",
       "      <th>rec_mon</th>\n",
       "      <th>dep_mon</th>\n",
       "      <th>act_dnb</th>\n",
       "      <th>act_coe</th>\n",
       "    </tr>\n",
       "  </thead>\n",
       "  <tbody>\n",
       "    <tr>\n",
       "      <th>0</th>\n",
       "      <td>C Omnipraticiens</td>\n",
       "      <td>111111</td>\n",
       "      <td>1091</td>\n",
       "      <td>EXAMEN OBLIGATOIRE ENFANT COD</td>\n",
       "      <td>201911</td>\n",
       "      <td>201910</td>\n",
       "      <td>1</td>\n",
       "      <td>Maladie</td>\n",
       "      <td>0</td>\n",
       "      <td>Sans majoration</td>\n",
       "      <td>...</td>\n",
       "      <td>01-Médecine générale</td>\n",
       "      <td>11</td>\n",
       "      <td>Médecins Omnipraticiens</td>\n",
       "      <td>1</td>\n",
       "      <td>Libéral</td>\n",
       "      <td>90,00</td>\n",
       "      <td>90,00</td>\n",
       "      <td>0,00</td>\n",
       "      <td>3.0</td>\n",
       "      <td>3,00</td>\n",
       "    </tr>\n",
       "    <tr>\n",
       "      <th>1</th>\n",
       "      <td>C Omnipraticiens</td>\n",
       "      <td>111111</td>\n",
       "      <td>1091</td>\n",
       "      <td>EXAMEN OBLIGATOIRE ENFANT COD</td>\n",
       "      <td>201911</td>\n",
       "      <td>201911</td>\n",
       "      <td>1</td>\n",
       "      <td>Maladie</td>\n",
       "      <td>0</td>\n",
       "      <td>Sans majoration</td>\n",
       "      <td>...</td>\n",
       "      <td>01-Médecine générale</td>\n",
       "      <td>11</td>\n",
       "      <td>Médecins Omnipraticiens</td>\n",
       "      <td>1</td>\n",
       "      <td>Libéral</td>\n",
       "      <td>2.769,20</td>\n",
       "      <td>2.769,20</td>\n",
       "      <td>0,00</td>\n",
       "      <td>92.0</td>\n",
       "      <td>92,00</td>\n",
       "    </tr>\n",
       "    <tr>\n",
       "      <th>2</th>\n",
       "      <td>C Omnipraticiens</td>\n",
       "      <td>111111</td>\n",
       "      <td>1091</td>\n",
       "      <td>EXAMEN OBLIGATOIRE ENFANT COD</td>\n",
       "      <td>201911</td>\n",
       "      <td>201911</td>\n",
       "      <td>1</td>\n",
       "      <td>Maladie</td>\n",
       "      <td>0</td>\n",
       "      <td>Sans majoration</td>\n",
       "      <td>...</td>\n",
       "      <td>01-Médecine générale</td>\n",
       "      <td>11</td>\n",
       "      <td>Médecins Omnipraticiens</td>\n",
       "      <td>2</td>\n",
       "      <td>Salarié</td>\n",
       "      <td>390,00</td>\n",
       "      <td>390,00</td>\n",
       "      <td>0,00</td>\n",
       "      <td>13.0</td>\n",
       "      <td>13,00</td>\n",
       "    </tr>\n",
       "    <tr>\n",
       "      <th>3</th>\n",
       "      <td>C Omnipraticiens</td>\n",
       "      <td>111111</td>\n",
       "      <td>1091</td>\n",
       "      <td>EXAMEN OBLIGATOIRE ENFANT COD</td>\n",
       "      <td>201912</td>\n",
       "      <td>201909</td>\n",
       "      <td>1</td>\n",
       "      <td>Maladie</td>\n",
       "      <td>0</td>\n",
       "      <td>Sans majoration</td>\n",
       "      <td>...</td>\n",
       "      <td>01-Médecine générale</td>\n",
       "      <td>11</td>\n",
       "      <td>Médecins Omnipraticiens</td>\n",
       "      <td>1</td>\n",
       "      <td>Libéral</td>\n",
       "      <td>0,00</td>\n",
       "      <td>0,00</td>\n",
       "      <td>0,00</td>\n",
       "      <td>0.0</td>\n",
       "      <td>0,00</td>\n",
       "    </tr>\n",
       "    <tr>\n",
       "      <th>4</th>\n",
       "      <td>C Omnipraticiens</td>\n",
       "      <td>111111</td>\n",
       "      <td>1091</td>\n",
       "      <td>EXAMEN OBLIGATOIRE ENFANT COD</td>\n",
       "      <td>201912</td>\n",
       "      <td>201909</td>\n",
       "      <td>1</td>\n",
       "      <td>Maladie</td>\n",
       "      <td>0</td>\n",
       "      <td>Sans majoration</td>\n",
       "      <td>...</td>\n",
       "      <td>01-Médecine générale</td>\n",
       "      <td>11</td>\n",
       "      <td>Médecins Omnipraticiens</td>\n",
       "      <td>2</td>\n",
       "      <td>Salarié</td>\n",
       "      <td>0,00</td>\n",
       "      <td>0,00</td>\n",
       "      <td>0,00</td>\n",
       "      <td>0.0</td>\n",
       "      <td>0,00</td>\n",
       "    </tr>\n",
       "    <tr>\n",
       "      <th>...</th>\n",
       "      <td>...</td>\n",
       "      <td>...</td>\n",
       "      <td>...</td>\n",
       "      <td>...</td>\n",
       "      <td>...</td>\n",
       "      <td>...</td>\n",
       "      <td>...</td>\n",
       "      <td>...</td>\n",
       "      <td>...</td>\n",
       "      <td>...</td>\n",
       "      <td>...</td>\n",
       "      <td>...</td>\n",
       "      <td>...</td>\n",
       "      <td>...</td>\n",
       "      <td>...</td>\n",
       "      <td>...</td>\n",
       "      <td>...</td>\n",
       "      <td>...</td>\n",
       "      <td>...</td>\n",
       "      <td>...</td>\n",
       "      <td>...</td>\n",
       "    </tr>\n",
       "    <tr>\n",
       "      <th>226520</th>\n",
       "      <td>Fonds pour l'innovation du système de santé (F...</td>\n",
       "      <td>11H</td>\n",
       "      <td>1196</td>\n",
       "      <td>FORFAIT INNOVATION SYSTEME DE SANTE</td>\n",
       "      <td>201912</td>\n",
       "      <td>201911</td>\n",
       "      <td>1</td>\n",
       "      <td>Maladie</td>\n",
       "      <td>0</td>\n",
       "      <td>Sans majoration</td>\n",
       "      <td>...</td>\n",
       "      <td>99-Spécialité Inconnue</td>\n",
       "      <td>99</td>\n",
       "      <td>Autres</td>\n",
       "      <td>2</td>\n",
       "      <td>Salarié</td>\n",
       "      <td>90,00</td>\n",
       "      <td>90,00</td>\n",
       "      <td>0,00</td>\n",
       "      <td>5.0</td>\n",
       "      <td>2,50</td>\n",
       "    </tr>\n",
       "    <tr>\n",
       "      <th>226521</th>\n",
       "      <td>Fonds pour l'innovation du système de santé (F...</td>\n",
       "      <td>11H</td>\n",
       "      <td>1196</td>\n",
       "      <td>FORFAIT INNOVATION SYSTEME DE SANTE</td>\n",
       "      <td>201912</td>\n",
       "      <td>201911</td>\n",
       "      <td>1</td>\n",
       "      <td>Maladie</td>\n",
       "      <td>0</td>\n",
       "      <td>Sans majoration</td>\n",
       "      <td>...</td>\n",
       "      <td>99-Spécialité Inconnue</td>\n",
       "      <td>99</td>\n",
       "      <td>Autres</td>\n",
       "      <td>2</td>\n",
       "      <td>Salarié</td>\n",
       "      <td>1,00</td>\n",
       "      <td>1,00</td>\n",
       "      <td>0,00</td>\n",
       "      <td>1.0</td>\n",
       "      <td>1,00</td>\n",
       "    </tr>\n",
       "    <tr>\n",
       "      <th>226522</th>\n",
       "      <td>Fonds pour l'innovation du système de santé (F...</td>\n",
       "      <td>11H</td>\n",
       "      <td>1196</td>\n",
       "      <td>FORFAIT INNOVATION SYSTEME DE SANTE</td>\n",
       "      <td>201912</td>\n",
       "      <td>201912</td>\n",
       "      <td>1</td>\n",
       "      <td>Maladie</td>\n",
       "      <td>0</td>\n",
       "      <td>Sans majoration</td>\n",
       "      <td>...</td>\n",
       "      <td>99-Spécialité Inconnue</td>\n",
       "      <td>99</td>\n",
       "      <td>Autres</td>\n",
       "      <td>2</td>\n",
       "      <td>Salarié</td>\n",
       "      <td>73,00</td>\n",
       "      <td>73,00</td>\n",
       "      <td>0,00</td>\n",
       "      <td>3.0</td>\n",
       "      <td>2,50</td>\n",
       "    </tr>\n",
       "    <tr>\n",
       "      <th>226523</th>\n",
       "      <td>Fonds pour l'innovation du système de santé (F...</td>\n",
       "      <td>11H</td>\n",
       "      <td>1196</td>\n",
       "      <td>FORFAIT INNOVATION SYSTEME DE SANTE</td>\n",
       "      <td>201912</td>\n",
       "      <td>201912</td>\n",
       "      <td>1</td>\n",
       "      <td>Maladie</td>\n",
       "      <td>0</td>\n",
       "      <td>Sans majoration</td>\n",
       "      <td>...</td>\n",
       "      <td>99-Spécialité Inconnue</td>\n",
       "      <td>99</td>\n",
       "      <td>Autres</td>\n",
       "      <td>2</td>\n",
       "      <td>Salarié</td>\n",
       "      <td>144,00</td>\n",
       "      <td>144,00</td>\n",
       "      <td>0,00</td>\n",
       "      <td>8.0</td>\n",
       "      <td>4,00</td>\n",
       "    </tr>\n",
       "    <tr>\n",
       "      <th>226524</th>\n",
       "      <td>Fonds pour l'innovation du système de santé (F...</td>\n",
       "      <td>11H</td>\n",
       "      <td>1196</td>\n",
       "      <td>FORFAIT INNOVATION SYSTEME DE SANTE</td>\n",
       "      <td>201912</td>\n",
       "      <td>201912</td>\n",
       "      <td>1</td>\n",
       "      <td>Maladie</td>\n",
       "      <td>0</td>\n",
       "      <td>Sans majoration</td>\n",
       "      <td>...</td>\n",
       "      <td>99-Spécialité Inconnue</td>\n",
       "      <td>99</td>\n",
       "      <td>Autres</td>\n",
       "      <td>2</td>\n",
       "      <td>Salarié</td>\n",
       "      <td>36,00</td>\n",
       "      <td>36,00</td>\n",
       "      <td>0,00</td>\n",
       "      <td>1.0</td>\n",
       "      <td>1,00</td>\n",
       "    </tr>\n",
       "  </tbody>\n",
       "</table>\n",
       "<p>226525 rows × 28 columns</p>\n",
       "</div>"
      ],
      "text/plain": [
       "                                                  l_serie   SERIE  prs_nat  \\\n",
       "0                                        C Omnipraticiens  111111     1091   \n",
       "1                                        C Omnipraticiens  111111     1091   \n",
       "2                                        C Omnipraticiens  111111     1091   \n",
       "3                                        C Omnipraticiens  111111     1091   \n",
       "4                                        C Omnipraticiens  111111     1091   \n",
       "...                                                   ...     ...      ...   \n",
       "226520  Fonds pour l'innovation du système de santé (F...     11H     1196   \n",
       "226521  Fonds pour l'innovation du système de santé (F...     11H     1196   \n",
       "226522  Fonds pour l'innovation du système de santé (F...     11H     1196   \n",
       "226523  Fonds pour l'innovation du système de santé (F...     11H     1196   \n",
       "226524  Fonds pour l'innovation du système de santé (F...     11H     1196   \n",
       "\n",
       "                                  l_prs_nat  rem_date  sns_date  asu_nat  \\\n",
       "0             EXAMEN OBLIGATOIRE ENFANT COD    201911    201910        1   \n",
       "1             EXAMEN OBLIGATOIRE ENFANT COD    201911    201911        1   \n",
       "2             EXAMEN OBLIGATOIRE ENFANT COD    201911    201911        1   \n",
       "3             EXAMEN OBLIGATOIRE ENFANT COD    201912    201909        1   \n",
       "4             EXAMEN OBLIGATOIRE ENFANT COD    201912    201909        1   \n",
       "...                                     ...       ...       ...      ...   \n",
       "226520  FORFAIT INNOVATION SYSTEME DE SANTE    201912    201911        1   \n",
       "226521  FORFAIT INNOVATION SYSTEME DE SANTE    201912    201911        1   \n",
       "226522  FORFAIT INNOVATION SYSTEME DE SANTE    201912    201912        1   \n",
       "226523  FORFAIT INNOVATION SYSTEME DE SANTE    201912    201912        1   \n",
       "226524  FORFAIT INNOVATION SYSTEME DE SANTE    201912    201912        1   \n",
       "\n",
       "       l_asu_nat  cpl_cod        l_cpl_cod  ...               l_exe_spe  \\\n",
       "0        Maladie        0  Sans majoration  ...    01-Médecine générale   \n",
       "1        Maladie        0  Sans majoration  ...    01-Médecine générale   \n",
       "2        Maladie        0  Sans majoration  ...    01-Médecine générale   \n",
       "3        Maladie        0  Sans majoration  ...    01-Médecine générale   \n",
       "4        Maladie        0  Sans majoration  ...    01-Médecine générale   \n",
       "...          ...      ...              ...  ...                     ...   \n",
       "226520   Maladie        0  Sans majoration  ...  99-Spécialité Inconnue   \n",
       "226521   Maladie        0  Sans majoration  ...  99-Spécialité Inconnue   \n",
       "226522   Maladie        0  Sans majoration  ...  99-Spécialité Inconnue   \n",
       "226523   Maladie        0  Sans majoration  ...  99-Spécialité Inconnue   \n",
       "226524   Maladie        0  Sans majoration  ...  99-Spécialité Inconnue   \n",
       "\n",
       "        exe_spe1               l_exe_spe1  exe_stj1 l_exe_stj1   rem_mon  \\\n",
       "0             11  Médecins Omnipraticiens         1    Libéral     90,00   \n",
       "1             11  Médecins Omnipraticiens         1    Libéral  2.769,20   \n",
       "2             11  Médecins Omnipraticiens         2    Salarié    390,00   \n",
       "3             11  Médecins Omnipraticiens         1    Libéral      0,00   \n",
       "4             11  Médecins Omnipraticiens         2    Salarié      0,00   \n",
       "...          ...                      ...       ...        ...       ...   \n",
       "226520        99                   Autres         2    Salarié     90,00   \n",
       "226521        99                   Autres         2    Salarié      1,00   \n",
       "226522        99                   Autres         2    Salarié     73,00   \n",
       "226523        99                   Autres         2    Salarié    144,00   \n",
       "226524        99                   Autres         2    Salarié     36,00   \n",
       "\n",
       "         rec_mon  dep_mon act_dnb  act_coe  \n",
       "0          90,00     0,00     3.0     3,00  \n",
       "1       2.769,20     0,00    92.0    92,00  \n",
       "2         390,00     0,00    13.0    13,00  \n",
       "3           0,00     0,00     0.0     0,00  \n",
       "4           0,00     0,00     0.0     0,00  \n",
       "...          ...      ...     ...      ...  \n",
       "226520     90,00     0,00     5.0     2,50  \n",
       "226521      1,00     0,00     1.0     1,00  \n",
       "226522     73,00     0,00     3.0     2,50  \n",
       "226523    144,00     0,00     8.0     4,00  \n",
       "226524     36,00     0,00     1.0     1,00  \n",
       "\n",
       "[226525 rows x 28 columns]"
      ]
     },
     "execution_count": 89,
     "metadata": {},
     "output_type": "execute_result"
    }
   ],
   "source": [
    "dep_maladie"
   ]
  },
  {
   "cell_type": "code",
   "execution_count": 93,
   "metadata": {},
   "outputs": [
    {
     "name": "stdout",
     "output_type": "stream",
     "text": [
      "226525\n",
      "28\n"
     ]
    }
   ],
   "source": [
    "nb_ligne, nb_col = dep_maladie.shape\n",
    "print(nb_ligne)\n",
    "print(nb_col)"
   ]
  },
  {
   "cell_type": "code",
   "execution_count": 95,
   "metadata": {
    "scrolled": true
   },
   "outputs": [
    {
     "data": {
      "text/html": [
       "<div>\n",
       "<style scoped>\n",
       "    .dataframe tbody tr th:only-of-type {\n",
       "        vertical-align: middle;\n",
       "    }\n",
       "\n",
       "    .dataframe tbody tr th {\n",
       "        vertical-align: top;\n",
       "    }\n",
       "\n",
       "    .dataframe thead th {\n",
       "        text-align: right;\n",
       "    }\n",
       "</style>\n",
       "<table border=\"1\" class=\"dataframe\">\n",
       "  <thead>\n",
       "    <tr style=\"text-align: right;\">\n",
       "      <th></th>\n",
       "      <th>prs_nat</th>\n",
       "      <th>rem_date</th>\n",
       "      <th>sns_date</th>\n",
       "      <th>asu_nat</th>\n",
       "      <th>cpl_cod</th>\n",
       "      <th>REM_TAU</th>\n",
       "      <th>pre_spe</th>\n",
       "      <th>pre_spe1</th>\n",
       "      <th>pre_stj1</th>\n",
       "      <th>exe_spe</th>\n",
       "      <th>exe_spe1</th>\n",
       "      <th>exe_stj1</th>\n",
       "      <th>act_dnb</th>\n",
       "    </tr>\n",
       "  </thead>\n",
       "  <tbody>\n",
       "    <tr>\n",
       "      <th>count</th>\n",
       "      <td>226525.000000</td>\n",
       "      <td>226525.000000</td>\n",
       "      <td>226525.000000</td>\n",
       "      <td>226525.000000</td>\n",
       "      <td>226525.000000</td>\n",
       "      <td>226525.000000</td>\n",
       "      <td>226525.000000</td>\n",
       "      <td>226525.000000</td>\n",
       "      <td>226525.000000</td>\n",
       "      <td>226525.000000</td>\n",
       "      <td>226525.000000</td>\n",
       "      <td>226525.000000</td>\n",
       "      <td>2.265250e+05</td>\n",
       "    </tr>\n",
       "    <tr>\n",
       "      <th>mean</th>\n",
       "      <td>2417.103472</td>\n",
       "      <td>201910.269003</td>\n",
       "      <td>201877.924370</td>\n",
       "      <td>1.398914</td>\n",
       "      <td>0.210961</td>\n",
       "      <td>82.694316</td>\n",
       "      <td>35.624399</td>\n",
       "      <td>3.123130</td>\n",
       "      <td>1.160265</td>\n",
       "      <td>43.831061</td>\n",
       "      <td>50.571840</td>\n",
       "      <td>1.382329</td>\n",
       "      <td>3.597470e+03</td>\n",
       "    </tr>\n",
       "    <tr>\n",
       "      <th>std</th>\n",
       "      <td>1134.340721</td>\n",
       "      <td>17.335476</td>\n",
       "      <td>60.828136</td>\n",
       "      <td>0.950661</td>\n",
       "      <td>0.501048</td>\n",
       "      <td>21.434701</td>\n",
       "      <td>34.874336</td>\n",
       "      <td>2.665702</td>\n",
       "      <td>0.366852</td>\n",
       "      <td>36.212388</td>\n",
       "      <td>35.983098</td>\n",
       "      <td>0.485957</td>\n",
       "      <td>1.736540e+05</td>\n",
       "    </tr>\n",
       "    <tr>\n",
       "      <th>min</th>\n",
       "      <td>1090.000000</td>\n",
       "      <td>200701.000000</td>\n",
       "      <td>201501.000000</td>\n",
       "      <td>1.000000</td>\n",
       "      <td>0.000000</td>\n",
       "      <td>1.000000</td>\n",
       "      <td>1.000000</td>\n",
       "      <td>1.000000</td>\n",
       "      <td>1.000000</td>\n",
       "      <td>1.000000</td>\n",
       "      <td>11.000000</td>\n",
       "      <td>1.000000</td>\n",
       "      <td>-4.794480e+04</td>\n",
       "    </tr>\n",
       "    <tr>\n",
       "      <th>25%</th>\n",
       "      <td>1324.000000</td>\n",
       "      <td>201912.000000</td>\n",
       "      <td>201901.000000</td>\n",
       "      <td>1.000000</td>\n",
       "      <td>0.000000</td>\n",
       "      <td>65.000000</td>\n",
       "      <td>7.000000</td>\n",
       "      <td>2.000000</td>\n",
       "      <td>1.000000</td>\n",
       "      <td>19.000000</td>\n",
       "      <td>12.000000</td>\n",
       "      <td>1.000000</td>\n",
       "      <td>1.000000e+00</td>\n",
       "    </tr>\n",
       "    <tr>\n",
       "      <th>50%</th>\n",
       "      <td>1975.000000</td>\n",
       "      <td>201912.000000</td>\n",
       "      <td>201908.000000</td>\n",
       "      <td>1.000000</td>\n",
       "      <td>0.000000</td>\n",
       "      <td>100.000000</td>\n",
       "      <td>19.000000</td>\n",
       "      <td>2.000000</td>\n",
       "      <td>1.000000</td>\n",
       "      <td>28.000000</td>\n",
       "      <td>50.000000</td>\n",
       "      <td>1.000000</td>\n",
       "      <td>5.000000e+00</td>\n",
       "    </tr>\n",
       "    <tr>\n",
       "      <th>75%</th>\n",
       "      <td>3312.000000</td>\n",
       "      <td>201912.000000</td>\n",
       "      <td>201911.000000</td>\n",
       "      <td>1.000000</td>\n",
       "      <td>0.000000</td>\n",
       "      <td>100.000000</td>\n",
       "      <td>54.000000</td>\n",
       "      <td>2.000000</td>\n",
       "      <td>1.000000</td>\n",
       "      <td>99.000000</td>\n",
       "      <td>99.000000</td>\n",
       "      <td>2.000000</td>\n",
       "      <td>2.700000e+01</td>\n",
       "    </tr>\n",
       "    <tr>\n",
       "      <th>max</th>\n",
       "      <td>8227.000000</td>\n",
       "      <td>201912.000000</td>\n",
       "      <td>201912.000000</td>\n",
       "      <td>8.000000</td>\n",
       "      <td>3.000000</td>\n",
       "      <td>100.000000</td>\n",
       "      <td>99.000000</td>\n",
       "      <td>9.000000</td>\n",
       "      <td>2.000000</td>\n",
       "      <td>99.000000</td>\n",
       "      <td>99.000000</td>\n",
       "      <td>2.000000</td>\n",
       "      <td>3.152380e+07</td>\n",
       "    </tr>\n",
       "  </tbody>\n",
       "</table>\n",
       "</div>"
      ],
      "text/plain": [
       "             prs_nat       rem_date       sns_date        asu_nat  \\\n",
       "count  226525.000000  226525.000000  226525.000000  226525.000000   \n",
       "mean     2417.103472  201910.269003  201877.924370       1.398914   \n",
       "std      1134.340721      17.335476      60.828136       0.950661   \n",
       "min      1090.000000  200701.000000  201501.000000       1.000000   \n",
       "25%      1324.000000  201912.000000  201901.000000       1.000000   \n",
       "50%      1975.000000  201912.000000  201908.000000       1.000000   \n",
       "75%      3312.000000  201912.000000  201911.000000       1.000000   \n",
       "max      8227.000000  201912.000000  201912.000000       8.000000   \n",
       "\n",
       "             cpl_cod        REM_TAU        pre_spe       pre_spe1  \\\n",
       "count  226525.000000  226525.000000  226525.000000  226525.000000   \n",
       "mean        0.210961      82.694316      35.624399       3.123130   \n",
       "std         0.501048      21.434701      34.874336       2.665702   \n",
       "min         0.000000       1.000000       1.000000       1.000000   \n",
       "25%         0.000000      65.000000       7.000000       2.000000   \n",
       "50%         0.000000     100.000000      19.000000       2.000000   \n",
       "75%         0.000000     100.000000      54.000000       2.000000   \n",
       "max         3.000000     100.000000      99.000000       9.000000   \n",
       "\n",
       "            pre_stj1        exe_spe       exe_spe1       exe_stj1  \\\n",
       "count  226525.000000  226525.000000  226525.000000  226525.000000   \n",
       "mean        1.160265      43.831061      50.571840       1.382329   \n",
       "std         0.366852      36.212388      35.983098       0.485957   \n",
       "min         1.000000       1.000000      11.000000       1.000000   \n",
       "25%         1.000000      19.000000      12.000000       1.000000   \n",
       "50%         1.000000      28.000000      50.000000       1.000000   \n",
       "75%         1.000000      99.000000      99.000000       2.000000   \n",
       "max         2.000000      99.000000      99.000000       2.000000   \n",
       "\n",
       "            act_dnb  \n",
       "count  2.265250e+05  \n",
       "mean   3.597470e+03  \n",
       "std    1.736540e+05  \n",
       "min   -4.794480e+04  \n",
       "25%    1.000000e+00  \n",
       "50%    5.000000e+00  \n",
       "75%    2.700000e+01  \n",
       "max    3.152380e+07  "
      ]
     },
     "execution_count": 95,
     "metadata": {},
     "output_type": "execute_result"
    }
   ],
   "source": [
    "dep_maladie.describe()"
   ]
  },
  {
   "cell_type": "markdown",
   "metadata": {},
   "source": [
    "## Combien de personnes ont-elles été remboursées à 100% pour un acte de santé ?"
   ]
  },
  {
   "cell_type": "code",
   "execution_count": 98,
   "metadata": {},
   "outputs": [
    {
     "data": {
      "text/plain": [
       "0         100\n",
       "1         100\n",
       "2         100\n",
       "3          70\n",
       "4          70\n",
       "         ... \n",
       "226520    100\n",
       "226521    100\n",
       "226522    100\n",
       "226523    100\n",
       "226524    100\n",
       "Name: REM_TAU, Length: 226525, dtype: int64"
      ]
     },
     "execution_count": 98,
     "metadata": {},
     "output_type": "execute_result"
    }
   ],
   "source": [
    "dep_maladie[\"REM_TAU\"]"
   ]
  },
  {
   "cell_type": "code",
   "execution_count": 103,
   "metadata": {},
   "outputs": [
    {
     "data": {
      "text/plain": [
       "<bound method DataFrame.count of                                                   l_serie   SERIE  prs_nat  \\\n",
       "0                                        C Omnipraticiens  111111     1091   \n",
       "1                                        C Omnipraticiens  111111     1091   \n",
       "2                                        C Omnipraticiens  111111     1091   \n",
       "5                                        C Omnipraticiens  111111     1091   \n",
       "6                                        C Omnipraticiens  111111     1091   \n",
       "...                                                   ...     ...      ...   \n",
       "226520  Fonds pour l'innovation du système de santé (F...     11H     1196   \n",
       "226521  Fonds pour l'innovation du système de santé (F...     11H     1196   \n",
       "226522  Fonds pour l'innovation du système de santé (F...     11H     1196   \n",
       "226523  Fonds pour l'innovation du système de santé (F...     11H     1196   \n",
       "226524  Fonds pour l'innovation du système de santé (F...     11H     1196   \n",
       "\n",
       "                                  l_prs_nat  rem_date  sns_date  asu_nat  \\\n",
       "0             EXAMEN OBLIGATOIRE ENFANT COD    201911    201910        1   \n",
       "1             EXAMEN OBLIGATOIRE ENFANT COD    201911    201911        1   \n",
       "2             EXAMEN OBLIGATOIRE ENFANT COD    201911    201911        1   \n",
       "5             EXAMEN OBLIGATOIRE ENFANT COD    201912    201909        1   \n",
       "6             EXAMEN OBLIGATOIRE ENFANT COD    201912    201909        1   \n",
       "...                                     ...       ...       ...      ...   \n",
       "226520  FORFAIT INNOVATION SYSTEME DE SANTE    201912    201911        1   \n",
       "226521  FORFAIT INNOVATION SYSTEME DE SANTE    201912    201911        1   \n",
       "226522  FORFAIT INNOVATION SYSTEME DE SANTE    201912    201912        1   \n",
       "226523  FORFAIT INNOVATION SYSTEME DE SANTE    201912    201912        1   \n",
       "226524  FORFAIT INNOVATION SYSTEME DE SANTE    201912    201912        1   \n",
       "\n",
       "       l_asu_nat  cpl_cod        l_cpl_cod  ...               l_exe_spe  \\\n",
       "0        Maladie        0  Sans majoration  ...    01-Médecine générale   \n",
       "1        Maladie        0  Sans majoration  ...    01-Médecine générale   \n",
       "2        Maladie        0  Sans majoration  ...    01-Médecine générale   \n",
       "5        Maladie        0  Sans majoration  ...    01-Médecine générale   \n",
       "6        Maladie        0  Sans majoration  ...    01-Médecine générale   \n",
       "...          ...      ...              ...  ...                     ...   \n",
       "226520   Maladie        0  Sans majoration  ...  99-Spécialité Inconnue   \n",
       "226521   Maladie        0  Sans majoration  ...  99-Spécialité Inconnue   \n",
       "226522   Maladie        0  Sans majoration  ...  99-Spécialité Inconnue   \n",
       "226523   Maladie        0  Sans majoration  ...  99-Spécialité Inconnue   \n",
       "226524   Maladie        0  Sans majoration  ...  99-Spécialité Inconnue   \n",
       "\n",
       "        exe_spe1               l_exe_spe1  exe_stj1 l_exe_stj1    rem_mon  \\\n",
       "0             11  Médecins Omnipraticiens         1    Libéral      90,00   \n",
       "1             11  Médecins Omnipraticiens         1    Libéral   2.769,20   \n",
       "2             11  Médecins Omnipraticiens         2    Salarié     390,00   \n",
       "5             11  Médecins Omnipraticiens         1    Libéral   2.146,36   \n",
       "6             11  Médecins Omnipraticiens         2    Salarié  10.504,60   \n",
       "...          ...                      ...       ...        ...        ...   \n",
       "226520        99                   Autres         2    Salarié      90,00   \n",
       "226521        99                   Autres         2    Salarié       1,00   \n",
       "226522        99                   Autres         2    Salarié      73,00   \n",
       "226523        99                   Autres         2    Salarié     144,00   \n",
       "226524        99                   Autres         2    Salarié      36,00   \n",
       "\n",
       "          rec_mon  dep_mon act_dnb  act_coe  \n",
       "0           90,00     0,00     3.0     3,00  \n",
       "1        2.769,20     0,00    92.0    92,00  \n",
       "2          390,00     0,00    13.0    13,00  \n",
       "5        2.146,36     0,00    72.0    72,00  \n",
       "6       10.504,60     0,00   350.0   350,00  \n",
       "...           ...      ...     ...      ...  \n",
       "226520      90,00     0,00     5.0     2,50  \n",
       "226521       1,00     0,00     1.0     1,00  \n",
       "226522      73,00     0,00     3.0     2,50  \n",
       "226523     144,00     0,00     8.0     4,00  \n",
       "226524      36,00     0,00     1.0     1,00  \n",
       "\n",
       "[120173 rows x 28 columns]>"
      ]
     },
     "execution_count": 103,
     "metadata": {},
     "output_type": "execute_result"
    }
   ],
   "source": [
    "dep_maladie[dep_maladie[\"REM_TAU\"]==100].count"
   ]
  },
  {
   "cell_type": "code",
   "execution_count": 111,
   "metadata": {
    "scrolled": true
   },
   "outputs": [
    {
     "data": {
      "text/plain": [
       "REM_TAU\n",
       "100    120173\n",
       "Name: l_serie, dtype: int64"
      ]
     },
     "execution_count": 111,
     "metadata": {},
     "output_type": "execute_result"
    }
   ],
   "source": [
    "dep_maladie.groupby(\"REM_TAU\").count()[-1:].l_serie"
   ]
  },
  {
   "cell_type": "code",
   "execution_count": 201,
   "metadata": {},
   "outputs": [
    {
     "data": {
      "text/plain": [
       "REM_TAU\n",
       "100    53.050657\n",
       "Name: l_serie, dtype: float64"
      ]
     },
     "execution_count": 201,
     "metadata": {},
     "output_type": "execute_result"
    }
   ],
   "source": [
    "#proportion\n",
    "proportion = dep_maladie.groupby(\"REM_TAU\").count()[-1:].l_serie/nb_ligne *100\n",
    "proportion"
   ]
  },
  {
   "cell_type": "code",
   "execution_count": 202,
   "metadata": {},
   "outputs": [],
   "source": [
    "# 120 173 personnes ont été remboursées à 100% durant cette période\n",
    "# Cela représente 53.05% des remboursements sur cette période"
   ]
  },
  {
   "cell_type": "markdown",
   "metadata": {},
   "source": [
    "## Histogramme du nombre de consultations par spécialité"
   ]
  },
  {
   "cell_type": "code",
   "execution_count": 124,
   "metadata": {},
   "outputs": [
    {
     "name": "stdout",
     "output_type": "stream",
     "text": [
      "l_pre_spe\n",
      "01-Médecine générale                                        27727\n",
      "02-Anesthésiologie - Réanimation chirurgicale                5654\n",
      "03-Pathologie cardio-vasculaire                              6519\n",
      "04-Chirurgie générale                                        4663\n",
      "05-Dermatologie et vénérologie                               4820\n",
      "06-Radiodiagnostic et imagerie médicale                      5768\n",
      "07-Gynécologie obstétrique                                   8017\n",
      "08-Gastro-entérologie et hépatologie                         4613\n",
      "09-Médecine interne                                          3502\n",
      "10-Neurochirurgie                                            2794\n",
      "11-Oto-rhino laryngologie                                    4852\n",
      "12-Pédiatrie                                                 5290\n",
      "13-Pneumologie                                               4380\n",
      "14-Rhumatologie                                              5615\n",
      "15-Ophtalmologie                                             7268\n",
      "16-Chirurgie urologique                                      4207\n",
      "17-Neuropsychiatrie                                          1110\n",
      "18-Stomatologie                                              2270\n",
      "19-Chirurgie dentaire                                        5003\n",
      "20-Réanimation médicale                                       519\n",
      "21-Sages-femmes                                              3658\n",
      "22-Spécialistes en médecine générale avec diplôme            1954\n",
      "23-Spécialistes en médecine générale recpnnu par l'ordre      408\n",
      "24-Infirmier                                                 1020\n",
      "26-Masseur-kinésithérapeute                                   436\n",
      "31-Médecine physique et de réanimation                       3282\n",
      "32-Neurologie                                                3944\n",
      "33-Psychiatrie générale                                      5858\n",
      "34-Gériatrie                                                 2020\n",
      "35-Néphrologie                                               2731\n",
      "36-Chirurgie dentaire spécialistes                            844\n",
      "37-Anatomie-cytologie-pathologique                            934\n",
      "38-Médecin biologiste                                        1027\n",
      "41-Chirurgie orthopédique et traumatologie                   7850\n",
      "42-Endocrinologie                                            4264\n",
      "43-Chirurgie infantile                                        930\n",
      "44-Chirurgie maxillo-faciale                                 1061\n",
      "45-Chirurgie maxillo-faciale et stomatologie                 1876\n",
      "46-Chirurgie plastique reconstructrice et esthétique         3165\n",
      "47-Chirurgie thoracique et cardio-vasculaire                 1798\n",
      "48-Chirurgie vasculaire                                      2322\n",
      "49-Chirurgie viscérale et digestive                          3225\n",
      "53-Chirurgie orale dentaire                                   507\n",
      "54-Médecine bucco-dentaire                                    218\n",
      "69-Chirurgie orale médicale                                    88\n",
      "70-Gynécologie médicale                                      3560\n",
      "71-Hémathologie                                              1523\n",
      "72-Médecine nucléaire                                         923\n",
      "73-Oncologie médicale                                        2899\n",
      "74-Oncologie radiothérapique                                 2529\n",
      "75-Psychiatrie de l\"enfant et de l\"adolescent                 699\n",
      "76-Radiothérapie                                             1549\n",
      "77-Obstétrique                                                478\n",
      "78-Génétique médicale                                         273\n",
      "79-Gynécologie obstétricale                                  2518\n",
      "80-Santé publique et Médecine Sociale                         103\n",
      "99-Spécialité Inconnue                                      39460\n",
      "Name: l_serie, dtype: int64\n"
     ]
    }
   ],
   "source": [
    "nb_nature = dep_maladie.groupby(\"l_pre_spe\").count().l_serie\n",
    "print(nb_nature)"
   ]
  },
  {
   "cell_type": "code",
   "execution_count": 145,
   "metadata": {},
   "outputs": [
    {
     "data": {
      "text/plain": [
       "pandas.core.series.Series"
      ]
     },
     "execution_count": 145,
     "metadata": {},
     "output_type": "execute_result"
    }
   ],
   "source": [
    "type(nb_nature)"
   ]
  },
  {
   "cell_type": "code",
   "execution_count": 146,
   "metadata": {},
   "outputs": [
    {
     "data": {
      "text/plain": [
       "array([27727,  5654,  6519,  4663,  4820,  5768,  8017,  4613,  3502,\n",
       "        2794,  4852,  5290,  4380,  5615,  7268,  4207,  1110,  2270,\n",
       "        5003,   519,  3658,  1954,   408,  1020,   436,  3282,  3944,\n",
       "        5858,  2020,  2731,   844,   934,  1027,  7850,  4264,   930,\n",
       "        1061,  1876,  3165,  1798,  2322,  3225,   507,   218,    88,\n",
       "        3560,  1523,   923,  2899,  2529,   699,  1549,   478,   273,\n",
       "        2518,   103, 39460], dtype=int64)"
      ]
     },
     "execution_count": 146,
     "metadata": {},
     "output_type": "execute_result"
    }
   ],
   "source": [
    "nb_cons_nature=nb_nature.values\n",
    "nb_cons_nature"
   ]
  },
  {
   "cell_type": "code",
   "execution_count": 217,
   "metadata": {
    "scrolled": true
   },
   "outputs": [
    {
     "data": {
      "text/plain": [
       "Text(0.5, 1.0, 'Diagramme bar du nombre de consultations par spécialité')"
      ]
     },
     "execution_count": 217,
     "metadata": {},
     "output_type": "execute_result"
    },
    {
     "data": {
      "image/png": "[encoded data removed]",
      "text/plain": [
       "<Figure size 960x800 with 1 Axes>"
      ]
     },
     "metadata": {
      "needs_background": "light"
     },
     "output_type": "display_data"
    }
   ],
   "source": [
    "import numpy as np\n",
    "#problème axe abscisse\n",
    "plt.figure(figsize=(12,10), dpi=80)\n",
    "plt.bar(nb_nature.index, nb_cons_nature)\n",
    "xticks_pos = np.arange( len( nb_nature.index)) +1\n",
    "plt.xticks(xticks_pos ,nb_nature.index, rotation=45 )\n",
    "plt.xlabel('spécialités')\n",
    "plt.ylabel('nombre de consultation')\n",
    "plt.title('Diagramme bar du nombre de consultations par spécialité')\n",
    "\n"
   ]
  },
  {
   "cell_type": "markdown",
   "metadata": {},
   "source": [
    "## nombre de remboursements par date"
   ]
  },
  {
   "cell_type": "code",
   "execution_count": 162,
   "metadata": {},
   "outputs": [],
   "source": [
    "import datetime\n",
    "dep_maladie[\"rem_date\"]= \n",
    "df['Datetime'] = df['Datetime'].apply(lambda _: datetime.strptime(_,\"%m/%d/%Y, %H:%M:%S\"))"
   ]
  },
  {
   "cell_type": "code",
   "execution_count": 157,
   "metadata": {},
   "outputs": [
    {
     "data": {
      "text/plain": [
       "0         201911\n",
       "1         201911\n",
       "2         201911\n",
       "3         201912\n",
       "4         201912\n",
       "           ...  \n",
       "226520    201912\n",
       "226521    201912\n",
       "226522    201912\n",
       "226523    201912\n",
       "226524    201912\n",
       "Name: rem_date, Length: 226525, dtype: int64"
      ]
     },
     "execution_count": 157,
     "metadata": {},
     "output_type": "execute_result"
    }
   ],
   "source": [
    "dep_maladie[\"rem_date\"]"
   ]
  },
  {
   "cell_type": "code",
   "execution_count": 160,
   "metadata": {},
   "outputs": [
    {
     "data": {
      "text/plain": [
       "pandas.core.series.Series"
      ]
     },
     "execution_count": 160,
     "metadata": {},
     "output_type": "execute_result"
    }
   ],
   "source": [
    "type(dep_maladie[\"rem_date\"])"
   ]
  },
  {
   "cell_type": "code",
   "execution_count": 188,
   "metadata": {},
   "outputs": [],
   "source": [
    "dep_maladie[\"rem_date\"] = pd.to_datetime(dep_maladie[\"rem_date\"], format= '%Y%m')"
   ]
  },
  {
   "cell_type": "code",
   "execution_count": 193,
   "metadata": {},
   "outputs": [
    {
     "data": {
      "text/plain": [
       "0        2019-11-01\n",
       "1        2019-11-01\n",
       "2        2019-11-01\n",
       "3        2019-12-01\n",
       "4        2019-12-01\n",
       "            ...    \n",
       "226520   2019-12-01\n",
       "226521   2019-12-01\n",
       "226522   2019-12-01\n",
       "226523   2019-12-01\n",
       "226524   2019-12-01\n",
       "Name: rem_date, Length: 226525, dtype: datetime64[ns]"
      ]
     },
     "execution_count": 193,
     "metadata": {},
     "output_type": "execute_result"
    }
   ],
   "source": [
    "dep_maladie[\"rem_date\"]"
   ]
  },
  {
   "cell_type": "code",
   "execution_count": 196,
   "metadata": {},
   "outputs": [
    {
     "data": {
      "text/plain": [
       "<AxesSubplot:xlabel='rem_date'>"
      ]
     },
     "execution_count": 196,
     "metadata": {},
     "output_type": "execute_result"
    },
    {
     "data": {
      "image/png": "[encoded data removed]",
      "text/plain": [
       "<Figure size 432x288 with 1 Axes>"
      ]
     },
     "metadata": {
      "needs_background": "light"
     },
     "output_type": "display_data"
    }
   ],
   "source": [
    "dep_maladie.groupby(dep_maladie[\"rem_date\"]).sum().plot()"
   ]
  },
  {
   "cell_type": "code",
   "execution_count": 199,
   "metadata": {},
   "outputs": [],
   "source": [
    "# Pas très révélant ici, \n",
    "# mais pratique pour comparer le nombre de remboursements avec les autres périodes \n",
    "# qui sont dans les autres fichiers"
   ]
  },
  {
   "cell_type": "markdown",
   "metadata": {},
   "source": [
    "### Corrélation & Heatmap"
   ]
  },
  {
   "cell_type": "code",
   "execution_count": 178,
   "metadata": {},
   "outputs": [
    {
     "data": {
      "text/html": [
       "<div>\n",
       "<style scoped>\n",
       "    .dataframe tbody tr th:only-of-type {\n",
       "        vertical-align: middle;\n",
       "    }\n",
       "\n",
       "    .dataframe tbody tr th {\n",
       "        vertical-align: top;\n",
       "    }\n",
       "\n",
       "    .dataframe thead th {\n",
       "        text-align: right;\n",
       "    }\n",
       "</style>\n",
       "<table border=\"1\" class=\"dataframe\">\n",
       "  <thead>\n",
       "    <tr style=\"text-align: right;\">\n",
       "      <th></th>\n",
       "      <th>prs_nat</th>\n",
       "      <th>rem_date</th>\n",
       "      <th>sns_date</th>\n",
       "      <th>asu_nat</th>\n",
       "      <th>cpl_cod</th>\n",
       "      <th>REM_TAU</th>\n",
       "      <th>pre_spe</th>\n",
       "      <th>pre_spe1</th>\n",
       "      <th>pre_stj1</th>\n",
       "      <th>exe_spe</th>\n",
       "      <th>exe_spe1</th>\n",
       "      <th>exe_stj1</th>\n",
       "      <th>act_dnb</th>\n",
       "    </tr>\n",
       "  </thead>\n",
       "  <tbody>\n",
       "    <tr>\n",
       "      <th>prs_nat</th>\n",
       "      <td>1.000000</td>\n",
       "      <td>0.004478</td>\n",
       "      <td>-0.076754</td>\n",
       "      <td>0.113182</td>\n",
       "      <td>-0.103904</td>\n",
       "      <td>0.163844</td>\n",
       "      <td>-0.012126</td>\n",
       "      <td>-0.049331</td>\n",
       "      <td>-0.052685</td>\n",
       "      <td>0.648445</td>\n",
       "      <td>0.764194</td>\n",
       "      <td>0.459883</td>\n",
       "      <td>0.010697</td>\n",
       "    </tr>\n",
       "    <tr>\n",
       "      <th>rem_date</th>\n",
       "      <td>0.004478</td>\n",
       "      <td>1.000000</td>\n",
       "      <td>0.241413</td>\n",
       "      <td>0.021490</td>\n",
       "      <td>0.022747</td>\n",
       "      <td>-0.011296</td>\n",
       "      <td>0.008264</td>\n",
       "      <td>-0.028757</td>\n",
       "      <td>-0.019652</td>\n",
       "      <td>0.029312</td>\n",
       "      <td>0.018441</td>\n",
       "      <td>0.035204</td>\n",
       "      <td>0.002061</td>\n",
       "    </tr>\n",
       "    <tr>\n",
       "      <th>sns_date</th>\n",
       "      <td>-0.076754</td>\n",
       "      <td>0.241413</td>\n",
       "      <td>1.000000</td>\n",
       "      <td>-0.071257</td>\n",
       "      <td>0.049370</td>\n",
       "      <td>-0.059815</td>\n",
       "      <td>0.018686</td>\n",
       "      <td>-0.040349</td>\n",
       "      <td>-0.051426</td>\n",
       "      <td>-0.024495</td>\n",
       "      <td>-0.063638</td>\n",
       "      <td>-0.004659</td>\n",
       "      <td>0.011335</td>\n",
       "    </tr>\n",
       "    <tr>\n",
       "      <th>asu_nat</th>\n",
       "      <td>0.113182</td>\n",
       "      <td>0.021490</td>\n",
       "      <td>-0.071257</td>\n",
       "      <td>1.000000</td>\n",
       "      <td>-0.028817</td>\n",
       "      <td>0.319081</td>\n",
       "      <td>0.002302</td>\n",
       "      <td>0.037515</td>\n",
       "      <td>0.034276</td>\n",
       "      <td>0.102303</td>\n",
       "      <td>0.114605</td>\n",
       "      <td>0.087982</td>\n",
       "      <td>-0.007302</td>\n",
       "    </tr>\n",
       "    <tr>\n",
       "      <th>cpl_cod</th>\n",
       "      <td>-0.103904</td>\n",
       "      <td>0.022747</td>\n",
       "      <td>0.049370</td>\n",
       "      <td>-0.028817</td>\n",
       "      <td>1.000000</td>\n",
       "      <td>-0.029462</td>\n",
       "      <td>-0.015847</td>\n",
       "      <td>-0.030778</td>\n",
       "      <td>-0.017502</td>\n",
       "      <td>-0.232077</td>\n",
       "      <td>-0.208966</td>\n",
       "      <td>-0.207008</td>\n",
       "      <td>-0.006627</td>\n",
       "    </tr>\n",
       "    <tr>\n",
       "      <th>REM_TAU</th>\n",
       "      <td>0.163844</td>\n",
       "      <td>-0.011296</td>\n",
       "      <td>-0.059815</td>\n",
       "      <td>0.319081</td>\n",
       "      <td>-0.029462</td>\n",
       "      <td>1.000000</td>\n",
       "      <td>0.027278</td>\n",
       "      <td>0.008195</td>\n",
       "      <td>0.004667</td>\n",
       "      <td>0.086485</td>\n",
       "      <td>0.155424</td>\n",
       "      <td>0.039433</td>\n",
       "      <td>-0.000096</td>\n",
       "    </tr>\n",
       "    <tr>\n",
       "      <th>pre_spe</th>\n",
       "      <td>-0.012126</td>\n",
       "      <td>0.008264</td>\n",
       "      <td>0.018686</td>\n",
       "      <td>0.002302</td>\n",
       "      <td>-0.015847</td>\n",
       "      <td>0.027278</td>\n",
       "      <td>1.000000</td>\n",
       "      <td>0.794367</td>\n",
       "      <td>0.793899</td>\n",
       "      <td>0.116746</td>\n",
       "      <td>0.000342</td>\n",
       "      <td>0.319207</td>\n",
       "      <td>-0.009314</td>\n",
       "    </tr>\n",
       "    <tr>\n",
       "      <th>pre_spe1</th>\n",
       "      <td>-0.049331</td>\n",
       "      <td>-0.028757</td>\n",
       "      <td>-0.040349</td>\n",
       "      <td>0.037515</td>\n",
       "      <td>-0.030778</td>\n",
       "      <td>0.008195</td>\n",
       "      <td>0.794367</td>\n",
       "      <td>1.000000</td>\n",
       "      <td>0.963127</td>\n",
       "      <td>-0.014741</td>\n",
       "      <td>-0.018960</td>\n",
       "      <td>0.371708</td>\n",
       "      <td>-0.004982</td>\n",
       "    </tr>\n",
       "    <tr>\n",
       "      <th>pre_stj1</th>\n",
       "      <td>-0.052685</td>\n",
       "      <td>-0.019652</td>\n",
       "      <td>-0.051426</td>\n",
       "      <td>0.034276</td>\n",
       "      <td>-0.017502</td>\n",
       "      <td>0.004667</td>\n",
       "      <td>0.793899</td>\n",
       "      <td>0.963127</td>\n",
       "      <td>1.000000</td>\n",
       "      <td>-0.035250</td>\n",
       "      <td>-0.041021</td>\n",
       "      <td>0.381046</td>\n",
       "      <td>-0.000296</td>\n",
       "    </tr>\n",
       "    <tr>\n",
       "      <th>exe_spe</th>\n",
       "      <td>0.648445</td>\n",
       "      <td>0.029312</td>\n",
       "      <td>-0.024495</td>\n",
       "      <td>0.102303</td>\n",
       "      <td>-0.232077</td>\n",
       "      <td>0.086485</td>\n",
       "      <td>0.116746</td>\n",
       "      <td>-0.014741</td>\n",
       "      <td>-0.035250</td>\n",
       "      <td>1.000000</td>\n",
       "      <td>0.776590</td>\n",
       "      <td>0.683944</td>\n",
       "      <td>0.012553</td>\n",
       "    </tr>\n",
       "    <tr>\n",
       "      <th>exe_spe1</th>\n",
       "      <td>0.764194</td>\n",
       "      <td>0.018441</td>\n",
       "      <td>-0.063638</td>\n",
       "      <td>0.114605</td>\n",
       "      <td>-0.208966</td>\n",
       "      <td>0.155424</td>\n",
       "      <td>0.000342</td>\n",
       "      <td>-0.018960</td>\n",
       "      <td>-0.041021</td>\n",
       "      <td>0.776590</td>\n",
       "      <td>1.000000</td>\n",
       "      <td>0.595268</td>\n",
       "      <td>0.013940</td>\n",
       "    </tr>\n",
       "    <tr>\n",
       "      <th>exe_stj1</th>\n",
       "      <td>0.459883</td>\n",
       "      <td>0.035204</td>\n",
       "      <td>-0.004659</td>\n",
       "      <td>0.087982</td>\n",
       "      <td>-0.207008</td>\n",
       "      <td>0.039433</td>\n",
       "      <td>0.319207</td>\n",
       "      <td>0.371708</td>\n",
       "      <td>0.381046</td>\n",
       "      <td>0.683944</td>\n",
       "      <td>0.595268</td>\n",
       "      <td>1.000000</td>\n",
       "      <td>0.008242</td>\n",
       "    </tr>\n",
       "    <tr>\n",
       "      <th>act_dnb</th>\n",
       "      <td>0.010697</td>\n",
       "      <td>0.002061</td>\n",
       "      <td>0.011335</td>\n",
       "      <td>-0.007302</td>\n",
       "      <td>-0.006627</td>\n",
       "      <td>-0.000096</td>\n",
       "      <td>-0.009314</td>\n",
       "      <td>-0.004982</td>\n",
       "      <td>-0.000296</td>\n",
       "      <td>0.012553</td>\n",
       "      <td>0.013940</td>\n",
       "      <td>0.008242</td>\n",
       "      <td>1.000000</td>\n",
       "    </tr>\n",
       "  </tbody>\n",
       "</table>\n",
       "</div>"
      ],
      "text/plain": [
       "           prs_nat  rem_date  sns_date   asu_nat   cpl_cod   REM_TAU  \\\n",
       "prs_nat   1.000000  0.004478 -0.076754  0.113182 -0.103904  0.163844   \n",
       "rem_date  0.004478  1.000000  0.241413  0.021490  0.022747 -0.011296   \n",
       "sns_date -0.076754  0.241413  1.000000 -0.071257  0.049370 -0.059815   \n",
       "asu_nat   0.113182  0.021490 -0.071257  1.000000 -0.028817  0.319081   \n",
       "cpl_cod  -0.103904  0.022747  0.049370 -0.028817  1.000000 -0.029462   \n",
       "REM_TAU   0.163844 -0.011296 -0.059815  0.319081 -0.029462  1.000000   \n",
       "pre_spe  -0.012126  0.008264  0.018686  0.002302 -0.015847  0.027278   \n",
       "pre_spe1 -0.049331 -0.028757 -0.040349  0.037515 -0.030778  0.008195   \n",
       "pre_stj1 -0.052685 -0.019652 -0.051426  0.034276 -0.017502  0.004667   \n",
       "exe_spe   0.648445  0.029312 -0.024495  0.102303 -0.232077  0.086485   \n",
       "exe_spe1  0.764194  0.018441 -0.063638  0.114605 -0.208966  0.155424   \n",
       "exe_stj1  0.459883  0.035204 -0.004659  0.087982 -0.207008  0.039433   \n",
       "act_dnb   0.010697  0.002061  0.011335 -0.007302 -0.006627 -0.000096   \n",
       "\n",
       "           pre_spe  pre_spe1  pre_stj1   exe_spe  exe_spe1  exe_stj1   act_dnb  \n",
       "prs_nat  -0.012126 -0.049331 -0.052685  0.648445  0.764194  0.459883  0.010697  \n",
       "rem_date  0.008264 -0.028757 -0.019652  0.029312  0.018441  0.035204  0.002061  \n",
       "sns_date  0.018686 -0.040349 -0.051426 -0.024495 -0.063638 -0.004659  0.011335  \n",
       "asu_nat   0.002302  0.037515  0.034276  0.102303  0.114605  0.087982 -0.007302  \n",
       "cpl_cod  -0.015847 -0.030778 -0.017502 -0.232077 -0.208966 -0.207008 -0.006627  \n",
       "REM_TAU   0.027278  0.008195  0.004667  0.086485  0.155424  0.039433 -0.000096  \n",
       "pre_spe   1.000000  0.794367  0.793899  0.116746  0.000342  0.319207 -0.009314  \n",
       "pre_spe1  0.794367  1.000000  0.963127 -0.014741 -0.018960  0.371708 -0.004982  \n",
       "pre_stj1  0.793899  0.963127  1.000000 -0.035250 -0.041021  0.381046 -0.000296  \n",
       "exe_spe   0.116746 -0.014741 -0.035250  1.000000  0.776590  0.683944  0.012553  \n",
       "exe_spe1  0.000342 -0.018960 -0.041021  0.776590  1.000000  0.595268  0.013940  \n",
       "exe_stj1  0.319207  0.371708  0.381046  0.683944  0.595268  1.000000  0.008242  \n",
       "act_dnb  -0.009314 -0.004982 -0.000296  0.012553  0.013940  0.008242  1.000000  "
      ]
     },
     "execution_count": 178,
     "metadata": {},
     "output_type": "execute_result"
    }
   ],
   "source": [
    "corr = dep_maladie.corr()\n",
    "corr"
   ]
  },
  {
   "cell_type": "code",
   "execution_count": 180,
   "metadata": {},
   "outputs": [],
   "source": [
    "import seaborn as sb"
   ]
  },
  {
   "cell_type": "code",
   "execution_count": 182,
   "metadata": {},
   "outputs": [
    {
     "data": {
      "image/png": "[encoded data removed]",
      "text/plain": [
       "<Figure size 432x288 with 2 Axes>"
      ]
     },
     "metadata": {
      "needs_background": "light"
     },
     "output_type": "display_data"
    }
   ],
   "source": [
    "ax = sb.heatmap(\n",
    "    corr, \n",
    "    vmin=-1, vmax=1, center=0,\n",
    "    cmap=sb.diverging_palette(20, 220, n=200),\n",
    "    square=True\n",
    ")\n",
    "ax.set_xticklabels(\n",
    "    ax.get_xticklabels(),\n",
    "    rotation=45,\n",
    "    horizontalalignment='right'\n",
    ");"
   ]
  },
  {
   "cell_type": "markdown",
   "metadata": {},
   "source": [
    "### Pivot table"
   ]
  },
  {
   "cell_type": "code",
   "execution_count": 175,
   "metadata": {},
   "outputs": [
    {
     "name": "stdout",
     "output_type": "stream",
     "text": [
      "l_exe_spe        01-Médecine générale  \\\n",
      "rem_mon dep_mon                         \n",
      "-0,00   -11,10                    NaN   \n",
      "        0,00                  Maladie   \n",
      "        174,58                    NaN   \n",
      "-0,01   0,00                      NaN   \n",
      "        519,81                    NaN   \n",
      "...                               ...   \n",
      "999,65  0,00                      NaN   \n",
      "999,70  1.581,86                  NaN   \n",
      "999,75  239,50                    NaN   \n",
      "999,83  0,00                      NaN   \n",
      "999,93  164,49                    NaN   \n",
      "\n",
      "l_exe_spe        02-Anesthésiologie - Réanimation chirurgicale  \\\n",
      "rem_mon dep_mon                                                  \n",
      "-0,00   -11,10                                             NaN   \n",
      "        0,00                                               NaN   \n",
      "        174,58                                             NaN   \n",
      "-0,01   0,00                                               NaN   \n",
      "        519,81                                             NaN   \n",
      "...                                                        ...   \n",
      "999,65  0,00                                               NaN   \n",
      "999,70  1.581,86                                           NaN   \n",
      "999,75  239,50                                             NaN   \n",
      "999,83  0,00                                               NaN   \n",
      "999,93  164,49                                             NaN   \n",
      "\n",
      "l_exe_spe        03-Pathologie cardio-vasculaire 04-Chirurgie générale  \\\n",
      "rem_mon dep_mon                                                          \n",
      "-0,00   -11,10                               NaN                   NaN   \n",
      "        0,00                                 NaN                   NaN   \n",
      "        174,58                               NaN                   NaN   \n",
      "-0,01   0,00                                 NaN                   NaN   \n",
      "        519,81                               NaN                   NaN   \n",
      "...                                          ...                   ...   \n",
      "999,65  0,00                                 NaN                   NaN   \n",
      "999,70  1.581,86                             NaN                   NaN   \n",
      "999,75  239,50                               NaN                   NaN   \n",
      "999,83  0,00                                 NaN                   NaN   \n",
      "999,93  164,49                               NaN                   NaN   \n",
      "\n",
      "l_exe_spe        05-Dermatologie et vénérologie  \\\n",
      "rem_mon dep_mon                                   \n",
      "-0,00   -11,10                              NaN   \n",
      "        0,00                            Maladie   \n",
      "        174,58                              NaN   \n",
      "-0,01   0,00                                NaN   \n",
      "        519,81                              NaN   \n",
      "...                                         ...   \n",
      "999,65  0,00                                NaN   \n",
      "999,70  1.581,86                            NaN   \n",
      "999,75  239,50                              NaN   \n",
      "999,83  0,00                                NaN   \n",
      "999,93  164,49                              NaN   \n",
      "\n",
      "l_exe_spe        06-Radiodiagnostic et imagerie médicale  \\\n",
      "rem_mon dep_mon                                            \n",
      "-0,00   -11,10                                       NaN   \n",
      "        0,00                                     Maladie   \n",
      "        174,58                                       NaN   \n",
      "-0,01   0,00                                         NaN   \n",
      "        519,81                                       NaN   \n",
      "...                                                  ...   \n",
      "999,65  0,00                                         NaN   \n",
      "999,70  1.581,86                                     NaN   \n",
      "999,75  239,50                                       NaN   \n",
      "999,83  0,00                                         NaN   \n",
      "999,93  164,49                                   Maladie   \n",
      "\n",
      "l_exe_spe        07-Gynécologie obstétrique  \\\n",
      "rem_mon dep_mon                               \n",
      "-0,00   -11,10                          NaN   \n",
      "        0,00                            NaN   \n",
      "        174,58                          NaN   \n",
      "-0,01   0,00                            NaN   \n",
      "        519,81                          NaN   \n",
      "...                                     ...   \n",
      "999,65  0,00                            NaN   \n",
      "999,70  1.581,86                        NaN   \n",
      "999,75  239,50                          NaN   \n",
      "999,83  0,00                            NaN   \n",
      "999,93  164,49                          NaN   \n",
      "\n",
      "l_exe_spe        08-Gastro-entérologie et hépatologie 09-Médecine interne  \\\n",
      "rem_mon dep_mon                                                             \n",
      "-0,00   -11,10                                    NaN                 NaN   \n",
      "        0,00                                      NaN                 NaN   \n",
      "        174,58                                    NaN                 NaN   \n",
      "-0,01   0,00                                      NaN                 NaN   \n",
      "        519,81                                    NaN                 NaN   \n",
      "...                                               ...                 ...   \n",
      "999,65  0,00                                      NaN                 NaN   \n",
      "999,70  1.581,86                                  NaN                 NaN   \n",
      "999,75  239,50                                    NaN                 NaN   \n",
      "999,83  0,00                                      NaN                 NaN   \n",
      "999,93  164,49                                    NaN                 NaN   \n",
      "\n",
      "l_exe_spe        10-Neurochirurgie  ... 72-Médecine nucléaire  \\\n",
      "rem_mon dep_mon                     ...                         \n",
      "-0,00   -11,10                 NaN  ...                   NaN   \n",
      "        0,00                   NaN  ...                   NaN   \n",
      "        174,58                 NaN  ...                   NaN   \n",
      "-0,01   0,00                   NaN  ...                   NaN   \n",
      "        519,81                 NaN  ...                   NaN   \n",
      "...                            ...  ...                   ...   \n",
      "999,65  0,00                   NaN  ...                   NaN   \n",
      "999,70  1.581,86               NaN  ...                   NaN   \n",
      "999,75  239,50                 NaN  ...                   NaN   \n",
      "999,83  0,00                   NaN  ...                   NaN   \n",
      "999,93  164,49                 NaN  ...                   NaN   \n",
      "\n",
      "l_exe_spe        73-Oncologie médicale 74-Oncologie radiothérapique  \\\n",
      "rem_mon dep_mon                                                       \n",
      "-0,00   -11,10                     NaN                          NaN   \n",
      "        0,00                       NaN                          NaN   \n",
      "        174,58                     NaN                          NaN   \n",
      "-0,01   0,00                       NaN                          NaN   \n",
      "        519,81                     NaN                          NaN   \n",
      "...                                ...                          ...   \n",
      "999,65  0,00                       NaN                          NaN   \n",
      "999,70  1.581,86                   NaN                          NaN   \n",
      "999,75  239,50                     NaN                          NaN   \n",
      "999,83  0,00                       NaN                          NaN   \n",
      "999,93  164,49                     NaN                          NaN   \n",
      "\n",
      "l_exe_spe        75-Psychiatrie de l\"enfant et de l\"adolescent  \\\n",
      "rem_mon dep_mon                                                  \n",
      "-0,00   -11,10                                             NaN   \n",
      "        0,00                                               NaN   \n",
      "        174,58                                             NaN   \n",
      "-0,01   0,00                                               NaN   \n",
      "        519,81                                             NaN   \n",
      "...                                                        ...   \n",
      "999,65  0,00                                               NaN   \n",
      "999,70  1.581,86                                           NaN   \n",
      "999,75  239,50                                             NaN   \n",
      "999,83  0,00                                               NaN   \n",
      "999,93  164,49                                             NaN   \n",
      "\n",
      "l_exe_spe        76-Radiothérapie 77-Obstétrique 78-Génétique médicale  \\\n",
      "rem_mon dep_mon                                                          \n",
      "-0,00   -11,10                NaN            NaN                   NaN   \n",
      "        0,00                  NaN            NaN                   NaN   \n",
      "        174,58                NaN            NaN                   NaN   \n",
      "-0,01   0,00                  NaN            NaN                   NaN   \n",
      "        519,81                NaN            NaN                   NaN   \n",
      "...                           ...            ...                   ...   \n",
      "999,65  0,00                  NaN            NaN                   NaN   \n",
      "999,70  1.581,86              NaN            NaN                   NaN   \n",
      "999,75  239,50                NaN            NaN                   NaN   \n",
      "999,83  0,00                  NaN            NaN                   NaN   \n",
      "999,93  164,49                NaN            NaN                   NaN   \n",
      "\n",
      "l_exe_spe        79-Gynécologie obstétricale  \\\n",
      "rem_mon dep_mon                                \n",
      "-0,00   -11,10                           NaN   \n",
      "        0,00                             NaN   \n",
      "        174,58                           NaN   \n",
      "-0,01   0,00                             NaN   \n",
      "        519,81                           NaN   \n",
      "...                                      ...   \n",
      "999,65  0,00                             NaN   \n",
      "999,70  1.581,86                         NaN   \n",
      "999,75  239,50                           NaN   \n",
      "999,83  0,00                             NaN   \n",
      "999,93  164,49                           NaN   \n",
      "\n",
      "l_exe_spe        80-Santé publique et Médecine Sociale  \\\n",
      "rem_mon dep_mon                                          \n",
      "-0,00   -11,10                                     NaN   \n",
      "        0,00                                       NaN   \n",
      "        174,58                                     NaN   \n",
      "-0,01   0,00                                       NaN   \n",
      "        519,81                                     NaN   \n",
      "...                                                ...   \n",
      "999,65  0,00                                       NaN   \n",
      "999,70  1.581,86                                   NaN   \n",
      "999,75  239,50                                     NaN   \n",
      "999,83  0,00                                       NaN   \n",
      "999,93  164,49                                     NaN   \n",
      "\n",
      "l_exe_spe                              99-Spécialité Inconnue  \n",
      "rem_mon dep_mon                                                \n",
      "-0,00   -11,10                                            NaN  \n",
      "        0,00      Accident du Travail-Maladie Professionnelle  \n",
      "        174,58                                            NaN  \n",
      "-0,01   0,00                     MaladieMaladieMaladieMaladie  \n",
      "        519,81                                            NaN  \n",
      "...                                                       ...  \n",
      "999,65  0,00                                          Maladie  \n",
      "999,70  1.581,86                                          NaN  \n",
      "999,75  239,50                                            NaN  \n",
      "999,83  0,00                                          Maladie  \n",
      "999,93  164,49                                            NaN  \n",
      "\n",
      "[89269 rows x 64 columns]\n"
     ]
    }
   ],
   "source": [
    "table = pd.pivot_table(dep_maladie, values='l_asu_nat', index=['rem_mon', 'dep_mon'],\n",
    "\n",
    "                    columns=['l_exe_spe'], aggfunc=np.sum)\n",
    "print(table)"
   ]
  },
  {
   "cell_type": "markdown",
   "metadata": {},
   "source": [
    "### Lorsqu'il y a un remboursement quel est-il en moyenne ?"
   ]
  },
  {
   "cell_type": "code",
   "execution_count": 220,
   "metadata": {},
   "outputs": [
    {
     "data": {
      "text/plain": [
       "str"
      ]
     },
     "execution_count": 220,
     "metadata": {},
     "output_type": "execute_result"
    }
   ],
   "source": [
    "type(dep_maladie[\"rem_mon\"][1])"
   ]
  },
  {
   "cell_type": "code",
   "execution_count": 244,
   "metadata": {
    "scrolled": true
   },
   "outputs": [],
   "source": [
    "#conversion des remboursements en float\n",
    "dep_maladie[\"rem_mon\"] = dep_maladie[\"rem_mon\"].apply(lambda x : x.replace('.', '').replace(',','.')).astype(float)"
   ]
  },
  {
   "cell_type": "code",
   "execution_count": 245,
   "metadata": {},
   "outputs": [
    {
     "data": {
      "text/plain": [
       "2769.2"
      ]
     },
     "execution_count": 245,
     "metadata": {},
     "output_type": "execute_result"
    }
   ],
   "source": [
    "type(dep_maladie[\"rem_mon\"][1])\n",
    "dep_maladie[\"rem_mon\"][1]"
   ]
  },
  {
   "cell_type": "code",
   "execution_count": 247,
   "metadata": {},
   "outputs": [
    {
     "data": {
      "text/plain": [
       "l_exe_spe\n",
       "01-Médecine générale                             32649.682322\n",
       "02-Anesthésiologie - Réanimation chirurgicale    29104.448912\n",
       "03-Pathologie cardio-vasculaire                  24700.313847\n",
       "04-Chirurgie générale                             8375.199106\n",
       "05-Dermatologie et vénérologie                    7124.038168\n",
       "                                                     ...     \n",
       "77-Obstétrique                                     545.996576\n",
       "78-Génétique médicale                              189.017114\n",
       "79-Gynécologie obstétricale                       1836.056872\n",
       "80-Santé publique et Médecine Sociale               44.260652\n",
       "99-Spécialité Inconnue                           81587.613513\n",
       "Name: rem_mon, Length: 64, dtype: float64"
      ]
     },
     "execution_count": 247,
     "metadata": {},
     "output_type": "execute_result"
    }
   ],
   "source": [
    "#problème plusieurs remboursements pour plusieurs actes sur même ligne\n",
    "dep_maladie.groupby(\"l_exe_spe\")[\"rem_mon\"].mean()"
   ]
  },
  {
   "cell_type": "code",
   "execution_count": 263,
   "metadata": {},
   "outputs": [],
   "source": [
    "dep_maladie[\"moy_rem\"] = dep_maladie[\"rem_mon\"]/dep_maladie[\"act_dnb\"].astype(float)\n",
    "dep_maladie2 = dep_maladie"
   ]
  },
  {
   "cell_type": "code",
   "execution_count": 264,
   "metadata": {},
   "outputs": [
    {
     "data": {
      "text/plain": [
       "0         30.000000\n",
       "1         30.100000\n",
       "2         30.000000\n",
       "3               NaN\n",
       "4               NaN\n",
       "            ...    \n",
       "226520    18.000000\n",
       "226521     1.000000\n",
       "226522    24.333333\n",
       "226523    18.000000\n",
       "226524    36.000000\n",
       "Name: moy_rem, Length: 226525, dtype: float64"
      ]
     },
     "execution_count": 264,
     "metadata": {},
     "output_type": "execute_result"
    }
   ],
   "source": [
    "dep_maladie2[\"moy_rem\"]"
   ]
  },
  {
   "cell_type": "code",
   "execution_count": 265,
   "metadata": {},
   "outputs": [
    {
     "data": {
      "text/html": [
       "<div>\n",
       "<style scoped>\n",
       "    .dataframe tbody tr th:only-of-type {\n",
       "        vertical-align: middle;\n",
       "    }\n",
       "\n",
       "    .dataframe tbody tr th {\n",
       "        vertical-align: top;\n",
       "    }\n",
       "\n",
       "    .dataframe thead th {\n",
       "        text-align: right;\n",
       "    }\n",
       "</style>\n",
       "<table border=\"1\" class=\"dataframe\">\n",
       "  <thead>\n",
       "    <tr style=\"text-align: right;\">\n",
       "      <th></th>\n",
       "      <th>l_serie</th>\n",
       "      <th>SERIE</th>\n",
       "      <th>prs_nat</th>\n",
       "      <th>l_prs_nat</th>\n",
       "      <th>rem_date</th>\n",
       "      <th>sns_date</th>\n",
       "      <th>asu_nat</th>\n",
       "      <th>l_asu_nat</th>\n",
       "      <th>cpl_cod</th>\n",
       "      <th>l_cpl_cod</th>\n",
       "      <th>...</th>\n",
       "      <th>exe_spe1</th>\n",
       "      <th>l_exe_spe1</th>\n",
       "      <th>exe_stj1</th>\n",
       "      <th>l_exe_stj1</th>\n",
       "      <th>rem_mon</th>\n",
       "      <th>rec_mon</th>\n",
       "      <th>dep_mon</th>\n",
       "      <th>act_dnb</th>\n",
       "      <th>act_coe</th>\n",
       "      <th>moy_rem</th>\n",
       "    </tr>\n",
       "  </thead>\n",
       "  <tbody>\n",
       "    <tr>\n",
       "      <th>0</th>\n",
       "      <td>C Omnipraticiens</td>\n",
       "      <td>111111</td>\n",
       "      <td>1091</td>\n",
       "      <td>EXAMEN OBLIGATOIRE ENFANT COD</td>\n",
       "      <td>2019-11-01</td>\n",
       "      <td>201910</td>\n",
       "      <td>1</td>\n",
       "      <td>Maladie</td>\n",
       "      <td>0</td>\n",
       "      <td>Sans majoration</td>\n",
       "      <td>...</td>\n",
       "      <td>11</td>\n",
       "      <td>Médecins Omnipraticiens</td>\n",
       "      <td>1</td>\n",
       "      <td>Libéral</td>\n",
       "      <td>90.0</td>\n",
       "      <td>90,00</td>\n",
       "      <td>0,00</td>\n",
       "      <td>3.0</td>\n",
       "      <td>3,00</td>\n",
       "      <td>30.000000</td>\n",
       "    </tr>\n",
       "    <tr>\n",
       "      <th>1</th>\n",
       "      <td>C Omnipraticiens</td>\n",
       "      <td>111111</td>\n",
       "      <td>1091</td>\n",
       "      <td>EXAMEN OBLIGATOIRE ENFANT COD</td>\n",
       "      <td>2019-11-01</td>\n",
       "      <td>201911</td>\n",
       "      <td>1</td>\n",
       "      <td>Maladie</td>\n",
       "      <td>0</td>\n",
       "      <td>Sans majoration</td>\n",
       "      <td>...</td>\n",
       "      <td>11</td>\n",
       "      <td>Médecins Omnipraticiens</td>\n",
       "      <td>1</td>\n",
       "      <td>Libéral</td>\n",
       "      <td>2769.2</td>\n",
       "      <td>2.769,20</td>\n",
       "      <td>0,00</td>\n",
       "      <td>92.0</td>\n",
       "      <td>92,00</td>\n",
       "      <td>30.100000</td>\n",
       "    </tr>\n",
       "    <tr>\n",
       "      <th>2</th>\n",
       "      <td>C Omnipraticiens</td>\n",
       "      <td>111111</td>\n",
       "      <td>1091</td>\n",
       "      <td>EXAMEN OBLIGATOIRE ENFANT COD</td>\n",
       "      <td>2019-11-01</td>\n",
       "      <td>201911</td>\n",
       "      <td>1</td>\n",
       "      <td>Maladie</td>\n",
       "      <td>0</td>\n",
       "      <td>Sans majoration</td>\n",
       "      <td>...</td>\n",
       "      <td>11</td>\n",
       "      <td>Médecins Omnipraticiens</td>\n",
       "      <td>2</td>\n",
       "      <td>Salarié</td>\n",
       "      <td>390.0</td>\n",
       "      <td>390,00</td>\n",
       "      <td>0,00</td>\n",
       "      <td>13.0</td>\n",
       "      <td>13,00</td>\n",
       "      <td>30.000000</td>\n",
       "    </tr>\n",
       "    <tr>\n",
       "      <th>3</th>\n",
       "      <td>C Omnipraticiens</td>\n",
       "      <td>111111</td>\n",
       "      <td>1091</td>\n",
       "      <td>EXAMEN OBLIGATOIRE ENFANT COD</td>\n",
       "      <td>2019-12-01</td>\n",
       "      <td>201909</td>\n",
       "      <td>1</td>\n",
       "      <td>Maladie</td>\n",
       "      <td>0</td>\n",
       "      <td>Sans majoration</td>\n",
       "      <td>...</td>\n",
       "      <td>11</td>\n",
       "      <td>Médecins Omnipraticiens</td>\n",
       "      <td>1</td>\n",
       "      <td>Libéral</td>\n",
       "      <td>0.0</td>\n",
       "      <td>0,00</td>\n",
       "      <td>0,00</td>\n",
       "      <td>0.0</td>\n",
       "      <td>0,00</td>\n",
       "      <td>1.000000</td>\n",
       "    </tr>\n",
       "    <tr>\n",
       "      <th>4</th>\n",
       "      <td>C Omnipraticiens</td>\n",
       "      <td>111111</td>\n",
       "      <td>1091</td>\n",
       "      <td>EXAMEN OBLIGATOIRE ENFANT COD</td>\n",
       "      <td>2019-12-01</td>\n",
       "      <td>201909</td>\n",
       "      <td>1</td>\n",
       "      <td>Maladie</td>\n",
       "      <td>0</td>\n",
       "      <td>Sans majoration</td>\n",
       "      <td>...</td>\n",
       "      <td>11</td>\n",
       "      <td>Médecins Omnipraticiens</td>\n",
       "      <td>2</td>\n",
       "      <td>Salarié</td>\n",
       "      <td>0.0</td>\n",
       "      <td>0,00</td>\n",
       "      <td>0,00</td>\n",
       "      <td>0.0</td>\n",
       "      <td>0,00</td>\n",
       "      <td>1.000000</td>\n",
       "    </tr>\n",
       "    <tr>\n",
       "      <th>...</th>\n",
       "      <td>...</td>\n",
       "      <td>...</td>\n",
       "      <td>...</td>\n",
       "      <td>...</td>\n",
       "      <td>...</td>\n",
       "      <td>...</td>\n",
       "      <td>...</td>\n",
       "      <td>...</td>\n",
       "      <td>...</td>\n",
       "      <td>...</td>\n",
       "      <td>...</td>\n",
       "      <td>...</td>\n",
       "      <td>...</td>\n",
       "      <td>...</td>\n",
       "      <td>...</td>\n",
       "      <td>...</td>\n",
       "      <td>...</td>\n",
       "      <td>...</td>\n",
       "      <td>...</td>\n",
       "      <td>...</td>\n",
       "      <td>...</td>\n",
       "    </tr>\n",
       "    <tr>\n",
       "      <th>226520</th>\n",
       "      <td>Fonds pour l'innovation du système de santé (F...</td>\n",
       "      <td>11H</td>\n",
       "      <td>1196</td>\n",
       "      <td>FORFAIT INNOVATION SYSTEME DE SANTE</td>\n",
       "      <td>2019-12-01</td>\n",
       "      <td>201911</td>\n",
       "      <td>1</td>\n",
       "      <td>Maladie</td>\n",
       "      <td>0</td>\n",
       "      <td>Sans majoration</td>\n",
       "      <td>...</td>\n",
       "      <td>99</td>\n",
       "      <td>Autres</td>\n",
       "      <td>2</td>\n",
       "      <td>Salarié</td>\n",
       "      <td>90.0</td>\n",
       "      <td>90,00</td>\n",
       "      <td>0,00</td>\n",
       "      <td>5.0</td>\n",
       "      <td>2,50</td>\n",
       "      <td>18.000000</td>\n",
       "    </tr>\n",
       "    <tr>\n",
       "      <th>226521</th>\n",
       "      <td>Fonds pour l'innovation du système de santé (F...</td>\n",
       "      <td>11H</td>\n",
       "      <td>1196</td>\n",
       "      <td>FORFAIT INNOVATION SYSTEME DE SANTE</td>\n",
       "      <td>2019-12-01</td>\n",
       "      <td>201911</td>\n",
       "      <td>1</td>\n",
       "      <td>Maladie</td>\n",
       "      <td>0</td>\n",
       "      <td>Sans majoration</td>\n",
       "      <td>...</td>\n",
       "      <td>99</td>\n",
       "      <td>Autres</td>\n",
       "      <td>2</td>\n",
       "      <td>Salarié</td>\n",
       "      <td>1.0</td>\n",
       "      <td>1,00</td>\n",
       "      <td>0,00</td>\n",
       "      <td>1.0</td>\n",
       "      <td>1,00</td>\n",
       "      <td>1.000000</td>\n",
       "    </tr>\n",
       "    <tr>\n",
       "      <th>226522</th>\n",
       "      <td>Fonds pour l'innovation du système de santé (F...</td>\n",
       "      <td>11H</td>\n",
       "      <td>1196</td>\n",
       "      <td>FORFAIT INNOVATION SYSTEME DE SANTE</td>\n",
       "      <td>2019-12-01</td>\n",
       "      <td>201912</td>\n",
       "      <td>1</td>\n",
       "      <td>Maladie</td>\n",
       "      <td>0</td>\n",
       "      <td>Sans majoration</td>\n",
       "      <td>...</td>\n",
       "      <td>99</td>\n",
       "      <td>Autres</td>\n",
       "      <td>2</td>\n",
       "      <td>Salarié</td>\n",
       "      <td>73.0</td>\n",
       "      <td>73,00</td>\n",
       "      <td>0,00</td>\n",
       "      <td>3.0</td>\n",
       "      <td>2,50</td>\n",
       "      <td>24.333333</td>\n",
       "    </tr>\n",
       "    <tr>\n",
       "      <th>226523</th>\n",
       "      <td>Fonds pour l'innovation du système de santé (F...</td>\n",
       "      <td>11H</td>\n",
       "      <td>1196</td>\n",
       "      <td>FORFAIT INNOVATION SYSTEME DE SANTE</td>\n",
       "      <td>2019-12-01</td>\n",
       "      <td>201912</td>\n",
       "      <td>1</td>\n",
       "      <td>Maladie</td>\n",
       "      <td>0</td>\n",
       "      <td>Sans majoration</td>\n",
       "      <td>...</td>\n",
       "      <td>99</td>\n",
       "      <td>Autres</td>\n",
       "      <td>2</td>\n",
       "      <td>Salarié</td>\n",
       "      <td>144.0</td>\n",
       "      <td>144,00</td>\n",
       "      <td>0,00</td>\n",
       "      <td>8.0</td>\n",
       "      <td>4,00</td>\n",
       "      <td>18.000000</td>\n",
       "    </tr>\n",
       "    <tr>\n",
       "      <th>226524</th>\n",
       "      <td>Fonds pour l'innovation du système de santé (F...</td>\n",
       "      <td>11H</td>\n",
       "      <td>1196</td>\n",
       "      <td>FORFAIT INNOVATION SYSTEME DE SANTE</td>\n",
       "      <td>2019-12-01</td>\n",
       "      <td>201912</td>\n",
       "      <td>1</td>\n",
       "      <td>Maladie</td>\n",
       "      <td>0</td>\n",
       "      <td>Sans majoration</td>\n",
       "      <td>...</td>\n",
       "      <td>99</td>\n",
       "      <td>Autres</td>\n",
       "      <td>2</td>\n",
       "      <td>Salarié</td>\n",
       "      <td>36.0</td>\n",
       "      <td>36,00</td>\n",
       "      <td>0,00</td>\n",
       "      <td>1.0</td>\n",
       "      <td>1,00</td>\n",
       "      <td>36.000000</td>\n",
       "    </tr>\n",
       "  </tbody>\n",
       "</table>\n",
       "<p>226525 rows × 29 columns</p>\n",
       "</div>"
      ],
      "text/plain": [
       "                                                  l_serie   SERIE  prs_nat  \\\n",
       "0                                        C Omnipraticiens  111111     1091   \n",
       "1                                        C Omnipraticiens  111111     1091   \n",
       "2                                        C Omnipraticiens  111111     1091   \n",
       "3                                        C Omnipraticiens  111111     1091   \n",
       "4                                        C Omnipraticiens  111111     1091   \n",
       "...                                                   ...     ...      ...   \n",
       "226520  Fonds pour l'innovation du système de santé (F...     11H     1196   \n",
       "226521  Fonds pour l'innovation du système de santé (F...     11H     1196   \n",
       "226522  Fonds pour l'innovation du système de santé (F...     11H     1196   \n",
       "226523  Fonds pour l'innovation du système de santé (F...     11H     1196   \n",
       "226524  Fonds pour l'innovation du système de santé (F...     11H     1196   \n",
       "\n",
       "                                  l_prs_nat   rem_date  sns_date  asu_nat  \\\n",
       "0             EXAMEN OBLIGATOIRE ENFANT COD 2019-11-01    201910        1   \n",
       "1             EXAMEN OBLIGATOIRE ENFANT COD 2019-11-01    201911        1   \n",
       "2             EXAMEN OBLIGATOIRE ENFANT COD 2019-11-01    201911        1   \n",
       "3             EXAMEN OBLIGATOIRE ENFANT COD 2019-12-01    201909        1   \n",
       "4             EXAMEN OBLIGATOIRE ENFANT COD 2019-12-01    201909        1   \n",
       "...                                     ...        ...       ...      ...   \n",
       "226520  FORFAIT INNOVATION SYSTEME DE SANTE 2019-12-01    201911        1   \n",
       "226521  FORFAIT INNOVATION SYSTEME DE SANTE 2019-12-01    201911        1   \n",
       "226522  FORFAIT INNOVATION SYSTEME DE SANTE 2019-12-01    201912        1   \n",
       "226523  FORFAIT INNOVATION SYSTEME DE SANTE 2019-12-01    201912        1   \n",
       "226524  FORFAIT INNOVATION SYSTEME DE SANTE 2019-12-01    201912        1   \n",
       "\n",
       "       l_asu_nat  cpl_cod        l_cpl_cod  ...  exe_spe1  \\\n",
       "0        Maladie        0  Sans majoration  ...        11   \n",
       "1        Maladie        0  Sans majoration  ...        11   \n",
       "2        Maladie        0  Sans majoration  ...        11   \n",
       "3        Maladie        0  Sans majoration  ...        11   \n",
       "4        Maladie        0  Sans majoration  ...        11   \n",
       "...          ...      ...              ...  ...       ...   \n",
       "226520   Maladie        0  Sans majoration  ...        99   \n",
       "226521   Maladie        0  Sans majoration  ...        99   \n",
       "226522   Maladie        0  Sans majoration  ...        99   \n",
       "226523   Maladie        0  Sans majoration  ...        99   \n",
       "226524   Maladie        0  Sans majoration  ...        99   \n",
       "\n",
       "                     l_exe_spe1 exe_stj1  l_exe_stj1 rem_mon   rec_mon  \\\n",
       "0       Médecins Omnipraticiens        1     Libéral    90.0     90,00   \n",
       "1       Médecins Omnipraticiens        1     Libéral  2769.2  2.769,20   \n",
       "2       Médecins Omnipraticiens        2     Salarié   390.0    390,00   \n",
       "3       Médecins Omnipraticiens        1     Libéral     0.0      0,00   \n",
       "4       Médecins Omnipraticiens        2     Salarié     0.0      0,00   \n",
       "...                         ...      ...         ...     ...       ...   \n",
       "226520                   Autres        2     Salarié    90.0     90,00   \n",
       "226521                   Autres        2     Salarié     1.0      1,00   \n",
       "226522                   Autres        2     Salarié    73.0     73,00   \n",
       "226523                   Autres        2     Salarié   144.0    144,00   \n",
       "226524                   Autres        2     Salarié    36.0     36,00   \n",
       "\n",
       "       dep_mon  act_dnb act_coe    moy_rem  \n",
       "0         0,00      3.0    3,00  30.000000  \n",
       "1         0,00     92.0   92,00  30.100000  \n",
       "2         0,00     13.0   13,00  30.000000  \n",
       "3         0,00      0.0    0,00   1.000000  \n",
       "4         0,00      0.0    0,00   1.000000  \n",
       "...        ...      ...     ...        ...  \n",
       "226520    0,00      5.0    2,50  18.000000  \n",
       "226521    0,00      1.0    1,00   1.000000  \n",
       "226522    0,00      3.0    2,50  24.333333  \n",
       "226523    0,00      8.0    4,00  18.000000  \n",
       "226524    0,00      1.0    1,00  36.000000  \n",
       "\n",
       "[226525 rows x 29 columns]"
      ]
     },
     "execution_count": 265,
     "metadata": {},
     "output_type": "execute_result"
    }
   ],
   "source": [
    "dep_maladie2.fillna(1)"
   ]
  },
  {
   "cell_type": "code",
   "execution_count": 266,
   "metadata": {},
   "outputs": [
    {
     "data": {
      "text/plain": [
       "0         30.000000\n",
       "1         30.100000\n",
       "2         30.000000\n",
       "3               NaN\n",
       "4               NaN\n",
       "            ...    \n",
       "226520    18.000000\n",
       "226521     1.000000\n",
       "226522    24.333333\n",
       "226523    18.000000\n",
       "226524    36.000000\n",
       "Name: moy_rem, Length: 226525, dtype: float64"
      ]
     },
     "execution_count": 266,
     "metadata": {},
     "output_type": "execute_result"
    }
   ],
   "source": [
    "dep_maladie2[\"moy_rem\"]"
   ]
  },
  {
   "cell_type": "code",
   "execution_count": 267,
   "metadata": {},
   "outputs": [
    {
     "data": {
      "text/plain": [
       "l_exe_spe\n",
       "01-Médecine générale                                   NaN\n",
       "02-Anesthésiologie - Réanimation chirurgicale          NaN\n",
       "03-Pathologie cardio-vasculaire                        NaN\n",
       "04-Chirurgie générale                                  NaN\n",
       "05-Dermatologie et vénérologie                         NaN\n",
       "                                                   ...    \n",
       "77-Obstétrique                                   19.661128\n",
       "78-Génétique médicale                            21.428167\n",
       "79-Gynécologie obstétricale                            NaN\n",
       "80-Santé publique et Médecine Sociale             5.921629\n",
       "99-Spécialité Inconnue                                 NaN\n",
       "Name: moy_rem, Length: 64, dtype: float64"
      ]
     },
     "execution_count": 267,
     "metadata": {},
     "output_type": "execute_result"
    }
   ],
   "source": [
    "dep_maladie2.groupby(\"l_exe_spe\")[\"moy_rem\"].mean()"
   ]
  },
  {
   "cell_type": "markdown",
   "metadata": {},
   "source": [
    "### Quelle est la spécialité qui a fait le plus de consultations remboursées ?"
   ]
  },
  {
   "cell_type": "code",
   "execution_count": 268,
   "metadata": {},
   "outputs": [
    {
     "data": {
      "text/plain": [
       "l_exe_spe\n",
       "01-Médecine générale                             3.983487e+07\n",
       "02-Anesthésiologie - Réanimation chirurgicale    1.612215e+06\n",
       "03-Pathologie cardio-vasculaire                  2.486255e+06\n",
       "04-Chirurgie générale                            3.045250e+05\n",
       "05-Dermatologie et vénérologie                   1.997210e+06\n",
       "                                                     ...     \n",
       "77-Obstétrique                                   8.856000e+03\n",
       "78-Génétique médicale                            1.077000e+03\n",
       "79-Gynécologie obstétricale                      1.671610e+05\n",
       "80-Santé publique et Médecine Sociale            3.330000e+02\n",
       "99-Spécialité Inconnue                           4.621953e+08\n",
       "Name: act_dnb, Length: 64, dtype: float64"
      ]
     },
     "execution_count": 268,
     "metadata": {},
     "output_type": "execute_result"
    }
   ],
   "source": [
    "dep_maladie.groupby(\"l_exe_spe\")[\"act_dnb\"].sum()"
   ]
  },
  {
   "cell_type": "code",
   "execution_count": 269,
   "metadata": {},
   "outputs": [],
   "source": [
    "# Comme attendu, c'est en médecine générale qu'il y a le plus de consultations,\n",
    "# 30 fois plus qu'en Anesthésiologie"
   ]
  }
 ],
 "metadata": {
  "kernelspec": {
   "display_name": "Python 3",
   "language": "python",
   "name": "python3"
  },
  "language_info": {
   "codemirror_mode": {
    "name": "ipython",
    "version": 3
   },
   "file_extension": ".py",
   "mimetype": "text/x-python",
   "name": "python",
   "nbconvert_exporter": "python",
   "pygments_lexer": "ipython3",
   "version": "3.8.5"
  }
 },
 "nbformat": 4,
 "nbformat_minor": 4
}
